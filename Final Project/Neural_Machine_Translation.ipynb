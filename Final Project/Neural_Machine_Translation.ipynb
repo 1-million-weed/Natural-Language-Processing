{
 "cells": [
  {
   "cell_type": "markdown",
   "metadata": {
    "id": "A6czvz5VKO5M"
   },
   "source": [
    "# Notebook for Neural Machine Translation\n",
    "Welcome to the programming portion of the assignment! Each assignment throughout the semester will have a written portion and a programming portion. We will be using [Google Colab](https://colab.research.google.com/notebooks/intro.ipynb#recent=true)."
   ]
  },
  {
   "cell_type": "markdown",
   "metadata": {
    "id": "5o8HI5JqTvU5"
   },
   "source": [
    "## Learning Objectives\n",
    "In this problem, we will use [PyTorch](https://pytorch.org/) to implement a sequence-to-sequence (seq2seq) transformer model to build a nerual machine translation (NMT) system, which translates from French to English."
   ]
  },
  {
   "cell_type": "markdown",
   "metadata": {
    "id": "ObrHyvWvTyGZ"
   },
   "source": [
    "## Writing Code\n",
    "Look for the keyword \"TODO\" and fill in your code in the empty space.\n",
    "You can edit code in the other parts of the notebook too, which can be useful for debugging, but be careful to avoid breaking the provided code."
   ]
  },
  {
   "cell_type": "markdown",
   "metadata": {
    "id": "tnYMKJlKNXYe"
   },
   "source": [
    "## Installing Packages\n",
    "\n",
    "Install PyTorch using pip. See [https://pytorch.org/](https://pytorch.org/) if you want to install it on your computer.\n",
    "In addition, we will also be needing [huggingface](https://huggingface.co/)'s `transformers` and `datasets` libraries, and [nltk](https://www.nltk.org/) to compute the BLEU score."
   ]
  },
  {
   "cell_type": "code",
   "execution_count": 1,
   "metadata": {
    "colab": {
     "base_uri": "https://localhost:8080/"
    },
    "id": "-dRVuiP_JVdT",
    "outputId": "a97dabdf-91f2-4273-d305-d4a6f45d862c"
   },
   "outputs": [
    {
     "name": "stdout",
     "output_type": "stream",
     "text": [
      "Requirement already satisfied: torch==1.8.0 in c:\\users\\rob\\qsync\\rug\\year 2\\nlp\\omw\\natural-language-processing\\.venv\\lib\\site-packages (1.8.0)\n",
      "Requirement already satisfied: typing-extensions in c:\\users\\rob\\qsync\\rug\\year 2\\nlp\\omw\\natural-language-processing\\.venv\\lib\\site-packages (from torch==1.8.0) (4.12.2)\n",
      "Requirement already satisfied: numpy in c:\\users\\rob\\qsync\\rug\\year 2\\nlp\\omw\\natural-language-processing\\.venv\\lib\\site-packages (from torch==1.8.0) (1.26.4)\n",
      "Requirement already satisfied: transformers==4.27.0 in c:\\users\\rob\\qsync\\rug\\year 2\\nlp\\omw\\natural-language-processing\\.venv\\lib\\site-packages (4.27.0)\n",
      "Requirement already satisfied: filelock in c:\\users\\rob\\qsync\\rug\\year 2\\nlp\\omw\\natural-language-processing\\.venv\\lib\\site-packages (from transformers==4.27.0) (3.17.0)\n",
      "Requirement already satisfied: huggingface-hub<1.0,>=0.11.0 in c:\\users\\rob\\qsync\\rug\\year 2\\nlp\\omw\\natural-language-processing\\.venv\\lib\\site-packages (from transformers==4.27.0) (0.29.3)\n",
      "Requirement already satisfied: numpy>=1.17 in c:\\users\\rob\\qsync\\rug\\year 2\\nlp\\omw\\natural-language-processing\\.venv\\lib\\site-packages (from transformers==4.27.0) (1.26.4)\n",
      "Requirement already satisfied: packaging>=20.0 in c:\\users\\rob\\qsync\\rug\\year 2\\nlp\\omw\\natural-language-processing\\.venv\\lib\\site-packages (from transformers==4.27.0) (24.2)\n",
      "Requirement already satisfied: pyyaml>=5.1 in c:\\users\\rob\\qsync\\rug\\year 2\\nlp\\omw\\natural-language-processing\\.venv\\lib\\site-packages (from transformers==4.27.0) (6.0.2)\n",
      "Requirement already satisfied: regex!=2019.12.17 in c:\\users\\rob\\qsync\\rug\\year 2\\nlp\\omw\\natural-language-processing\\.venv\\lib\\site-packages (from transformers==4.27.0) (2024.11.6)\n",
      "Requirement already satisfied: requests in c:\\users\\rob\\qsync\\rug\\year 2\\nlp\\omw\\natural-language-processing\\.venv\\lib\\site-packages (from transformers==4.27.0) (2.32.3)\n",
      "Requirement already satisfied: tokenizers!=0.11.3,<0.14,>=0.11.1 in c:\\users\\rob\\qsync\\rug\\year 2\\nlp\\omw\\natural-language-processing\\.venv\\lib\\site-packages (from transformers==4.27.0) (0.13.3)\n",
      "Requirement already satisfied: tqdm>=4.27 in c:\\users\\rob\\qsync\\rug\\year 2\\nlp\\omw\\natural-language-processing\\.venv\\lib\\site-packages (from transformers==4.27.0) (4.67.1)\n",
      "Requirement already satisfied: fsspec>=2023.5.0 in c:\\users\\rob\\qsync\\rug\\year 2\\nlp\\omw\\natural-language-processing\\.venv\\lib\\site-packages (from huggingface-hub<1.0,>=0.11.0->transformers==4.27.0) (2024.12.0)\n",
      "Requirement already satisfied: typing-extensions>=3.7.4.3 in c:\\users\\rob\\qsync\\rug\\year 2\\nlp\\omw\\natural-language-processing\\.venv\\lib\\site-packages (from huggingface-hub<1.0,>=0.11.0->transformers==4.27.0) (4.12.2)\n",
      "Requirement already satisfied: colorama in c:\\users\\rob\\qsync\\rug\\year 2\\nlp\\omw\\natural-language-processing\\.venv\\lib\\site-packages (from tqdm>=4.27->transformers==4.27.0) (0.4.6)\n",
      "Requirement already satisfied: charset-normalizer<4,>=2 in c:\\users\\rob\\qsync\\rug\\year 2\\nlp\\omw\\natural-language-processing\\.venv\\lib\\site-packages (from requests->transformers==4.27.0) (3.4.1)\n",
      "Requirement already satisfied: idna<4,>=2.5 in c:\\users\\rob\\qsync\\rug\\year 2\\nlp\\omw\\natural-language-processing\\.venv\\lib\\site-packages (from requests->transformers==4.27.0) (3.10)\n",
      "Requirement already satisfied: urllib3<3,>=1.21.1 in c:\\users\\rob\\qsync\\rug\\year 2\\nlp\\omw\\natural-language-processing\\.venv\\lib\\site-packages (from requests->transformers==4.27.0) (2.3.0)\n",
      "Requirement already satisfied: certifi>=2017.4.17 in c:\\users\\rob\\qsync\\rug\\year 2\\nlp\\omw\\natural-language-processing\\.venv\\lib\\site-packages (from requests->transformers==4.27.0) (2025.1.31)\n",
      "Collecting datasets==2.10.0\n",
      "  Using cached datasets-2.10.0-py3-none-any.whl.metadata (20 kB)\n",
      "Requirement already satisfied: numpy>=1.17 in c:\\users\\rob\\qsync\\rug\\year 2\\nlp\\omw\\natural-language-processing\\.venv\\lib\\site-packages (from datasets==2.10.0) (1.26.4)\n",
      "Requirement already satisfied: pyarrow>=6.0.0 in c:\\users\\rob\\qsync\\rug\\year 2\\nlp\\omw\\natural-language-processing\\.venv\\lib\\site-packages (from datasets==2.10.0) (19.0.1)\n",
      "Requirement already satisfied: dill<0.3.7,>=0.3.0 in c:\\users\\rob\\qsync\\rug\\year 2\\nlp\\omw\\natural-language-processing\\.venv\\lib\\site-packages (from datasets==2.10.0) (0.3.6)\n",
      "Requirement already satisfied: pandas in c:\\users\\rob\\qsync\\rug\\year 2\\nlp\\omw\\natural-language-processing\\.venv\\lib\\site-packages (from datasets==2.10.0) (2.2.3)\n",
      "Requirement already satisfied: requests>=2.19.0 in c:\\users\\rob\\qsync\\rug\\year 2\\nlp\\omw\\natural-language-processing\\.venv\\lib\\site-packages (from datasets==2.10.0) (2.32.3)\n",
      "Requirement already satisfied: tqdm>=4.62.1 in c:\\users\\rob\\qsync\\rug\\year 2\\nlp\\omw\\natural-language-processing\\.venv\\lib\\site-packages (from datasets==2.10.0) (4.67.1)\n",
      "Requirement already satisfied: xxhash in c:\\users\\rob\\qsync\\rug\\year 2\\nlp\\omw\\natural-language-processing\\.venv\\lib\\site-packages (from datasets==2.10.0) (3.5.0)\n",
      "Requirement already satisfied: multiprocess in c:\\users\\rob\\qsync\\rug\\year 2\\nlp\\omw\\natural-language-processing\\.venv\\lib\\site-packages (from datasets==2.10.0) (0.70.14)\n",
      "Requirement already satisfied: fsspec>=2021.11.1 in c:\\users\\rob\\qsync\\rug\\year 2\\nlp\\omw\\natural-language-processing\\.venv\\lib\\site-packages (from fsspec[http]>=2021.11.1->datasets==2.10.0) (2024.12.0)\n",
      "Requirement already satisfied: aiohttp in c:\\users\\rob\\qsync\\rug\\year 2\\nlp\\omw\\natural-language-processing\\.venv\\lib\\site-packages (from datasets==2.10.0) (3.11.13)\n",
      "Requirement already satisfied: huggingface-hub<1.0.0,>=0.2.0 in c:\\users\\rob\\qsync\\rug\\year 2\\nlp\\omw\\natural-language-processing\\.venv\\lib\\site-packages (from datasets==2.10.0) (0.29.3)\n",
      "Requirement already satisfied: packaging in c:\\users\\rob\\qsync\\rug\\year 2\\nlp\\omw\\natural-language-processing\\.venv\\lib\\site-packages (from datasets==2.10.0) (24.2)\n",
      "Requirement already satisfied: responses<0.19 in c:\\users\\rob\\qsync\\rug\\year 2\\nlp\\omw\\natural-language-processing\\.venv\\lib\\site-packages (from datasets==2.10.0) (0.18.0)\n",
      "Requirement already satisfied: pyyaml>=5.1 in c:\\users\\rob\\qsync\\rug\\year 2\\nlp\\omw\\natural-language-processing\\.venv\\lib\\site-packages (from datasets==2.10.0) (6.0.2)\n",
      "Requirement already satisfied: aiohappyeyeballs>=2.3.0 in c:\\users\\rob\\qsync\\rug\\year 2\\nlp\\omw\\natural-language-processing\\.venv\\lib\\site-packages (from aiohttp->datasets==2.10.0) (2.6.1)\n",
      "Requirement already satisfied: aiosignal>=1.1.2 in c:\\users\\rob\\qsync\\rug\\year 2\\nlp\\omw\\natural-language-processing\\.venv\\lib\\site-packages (from aiohttp->datasets==2.10.0) (1.3.2)\n",
      "Requirement already satisfied: async-timeout<6.0,>=4.0 in c:\\users\\rob\\qsync\\rug\\year 2\\nlp\\omw\\natural-language-processing\\.venv\\lib\\site-packages (from aiohttp->datasets==2.10.0) (5.0.1)\n",
      "Requirement already satisfied: attrs>=17.3.0 in c:\\users\\rob\\qsync\\rug\\year 2\\nlp\\omw\\natural-language-processing\\.venv\\lib\\site-packages (from aiohttp->datasets==2.10.0) (25.2.0)\n",
      "Requirement already satisfied: frozenlist>=1.1.1 in c:\\users\\rob\\qsync\\rug\\year 2\\nlp\\omw\\natural-language-processing\\.venv\\lib\\site-packages (from aiohttp->datasets==2.10.0) (1.5.0)\n",
      "Requirement already satisfied: multidict<7.0,>=4.5 in c:\\users\\rob\\qsync\\rug\\year 2\\nlp\\omw\\natural-language-processing\\.venv\\lib\\site-packages (from aiohttp->datasets==2.10.0) (6.1.0)\n",
      "Requirement already satisfied: propcache>=0.2.0 in c:\\users\\rob\\qsync\\rug\\year 2\\nlp\\omw\\natural-language-processing\\.venv\\lib\\site-packages (from aiohttp->datasets==2.10.0) (0.3.0)\n",
      "Requirement already satisfied: yarl<2.0,>=1.17.0 in c:\\users\\rob\\qsync\\rug\\year 2\\nlp\\omw\\natural-language-processing\\.venv\\lib\\site-packages (from aiohttp->datasets==2.10.0) (1.18.3)\n",
      "Requirement already satisfied: filelock in c:\\users\\rob\\qsync\\rug\\year 2\\nlp\\omw\\natural-language-processing\\.venv\\lib\\site-packages (from huggingface-hub<1.0.0,>=0.2.0->datasets==2.10.0) (3.17.0)\n",
      "Requirement already satisfied: typing-extensions>=3.7.4.3 in c:\\users\\rob\\qsync\\rug\\year 2\\nlp\\omw\\natural-language-processing\\.venv\\lib\\site-packages (from huggingface-hub<1.0.0,>=0.2.0->datasets==2.10.0) (4.12.2)\n",
      "Requirement already satisfied: charset-normalizer<4,>=2 in c:\\users\\rob\\qsync\\rug\\year 2\\nlp\\omw\\natural-language-processing\\.venv\\lib\\site-packages (from requests>=2.19.0->datasets==2.10.0) (3.4.1)\n",
      "Requirement already satisfied: idna<4,>=2.5 in c:\\users\\rob\\qsync\\rug\\year 2\\nlp\\omw\\natural-language-processing\\.venv\\lib\\site-packages (from requests>=2.19.0->datasets==2.10.0) (3.10)\n",
      "Requirement already satisfied: urllib3<3,>=1.21.1 in c:\\users\\rob\\qsync\\rug\\year 2\\nlp\\omw\\natural-language-processing\\.venv\\lib\\site-packages (from requests>=2.19.0->datasets==2.10.0) (2.3.0)\n",
      "Requirement already satisfied: certifi>=2017.4.17 in c:\\users\\rob\\qsync\\rug\\year 2\\nlp\\omw\\natural-language-processing\\.venv\\lib\\site-packages (from requests>=2.19.0->datasets==2.10.0) (2025.1.31)\n",
      "Requirement already satisfied: colorama in c:\\users\\rob\\qsync\\rug\\year 2\\nlp\\omw\\natural-language-processing\\.venv\\lib\\site-packages (from tqdm>=4.62.1->datasets==2.10.0) (0.4.6)\n",
      "Requirement already satisfied: python-dateutil>=2.8.2 in c:\\users\\rob\\qsync\\rug\\year 2\\nlp\\omw\\natural-language-processing\\.venv\\lib\\site-packages (from pandas->datasets==2.10.0) (2.9.0.post0)\n",
      "Requirement already satisfied: pytz>=2020.1 in c:\\users\\rob\\qsync\\rug\\year 2\\nlp\\omw\\natural-language-processing\\.venv\\lib\\site-packages (from pandas->datasets==2.10.0) (2025.1)\n",
      "Requirement already satisfied: tzdata>=2022.7 in c:\\users\\rob\\qsync\\rug\\year 2\\nlp\\omw\\natural-language-processing\\.venv\\lib\\site-packages (from pandas->datasets==2.10.0) (2025.1)\n",
      "Requirement already satisfied: six>=1.5 in c:\\users\\rob\\qsync\\rug\\year 2\\nlp\\omw\\natural-language-processing\\.venv\\lib\\site-packages (from python-dateutil>=2.8.2->pandas->datasets==2.10.0) (1.17.0)\n",
      "Using cached datasets-2.10.0-py3-none-any.whl (469 kB)\n",
      "Installing collected packages: datasets\n",
      "  Attempting uninstall: datasets\n",
      "    Found existing installation: datasets 3.3.2\n",
      "    Uninstalling datasets-3.3.2:\n",
      "      Successfully uninstalled datasets-3.3.2\n",
      "Successfully installed datasets-2.10.0\n"
     ]
    }
   ],
   "source": [
    "# Pytorch is typically already installed in Google Colab (uncomment to install):\n",
    "!pip install torch==1.8.0\n",
    "# or for GPU support:\n",
    "#!pip install torch==1.8.0+cu111 -f https://download.pytorch.org/whl/torch_stable.html\n",
    "!pip install transformers==4.27.0\n",
    "!pip install datasets==2.10.0\n",
    "# NLTK is typically also already installed in Google Colab (uncomment to install):\n",
    "# !pip install nltk==3.8.1"
   ]
  },
  {
   "cell_type": "code",
   "execution_count": 2,
   "metadata": {
    "colab": {
     "base_uri": "https://localhost:8080/"
    },
    "id": "Ylk_JS66QjsE",
    "outputId": "6644f285-773e-4658-fe7e-79068a2fab99"
   },
   "outputs": [
    {
     "name": "stdout",
     "output_type": "stream",
     "text": [
      "Requirement already satisfied: datasets in c:\\users\\rob\\qsync\\rug\\year 2\\nlp\\omw\\natural-language-processing\\.venv\\lib\\site-packages (2.10.0)\n",
      "Collecting datasets\n",
      "  Using cached datasets-3.3.2-py3-none-any.whl.metadata (19 kB)\n",
      "Requirement already satisfied: filelock in c:\\users\\rob\\qsync\\rug\\year 2\\nlp\\omw\\natural-language-processing\\.venv\\lib\\site-packages (from datasets) (3.17.0)\n",
      "Requirement already satisfied: numpy>=1.17 in c:\\users\\rob\\qsync\\rug\\year 2\\nlp\\omw\\natural-language-processing\\.venv\\lib\\site-packages (from datasets) (1.26.4)\n",
      "Requirement already satisfied: pyarrow>=15.0.0 in c:\\users\\rob\\qsync\\rug\\year 2\\nlp\\omw\\natural-language-processing\\.venv\\lib\\site-packages (from datasets) (19.0.1)\n",
      "Requirement already satisfied: dill<0.3.9,>=0.3.0 in c:\\users\\rob\\qsync\\rug\\year 2\\nlp\\omw\\natural-language-processing\\.venv\\lib\\site-packages (from datasets) (0.3.6)\n",
      "Requirement already satisfied: pandas in c:\\users\\rob\\qsync\\rug\\year 2\\nlp\\omw\\natural-language-processing\\.venv\\lib\\site-packages (from datasets) (2.2.3)\n",
      "Requirement already satisfied: requests>=2.32.2 in c:\\users\\rob\\qsync\\rug\\year 2\\nlp\\omw\\natural-language-processing\\.venv\\lib\\site-packages (from datasets) (2.32.3)\n",
      "Requirement already satisfied: tqdm>=4.66.3 in c:\\users\\rob\\qsync\\rug\\year 2\\nlp\\omw\\natural-language-processing\\.venv\\lib\\site-packages (from datasets) (4.67.1)\n",
      "Requirement already satisfied: xxhash in c:\\users\\rob\\qsync\\rug\\year 2\\nlp\\omw\\natural-language-processing\\.venv\\lib\\site-packages (from datasets) (3.5.0)\n",
      "Requirement already satisfied: multiprocess<0.70.17 in c:\\users\\rob\\qsync\\rug\\year 2\\nlp\\omw\\natural-language-processing\\.venv\\lib\\site-packages (from datasets) (0.70.14)\n",
      "Requirement already satisfied: fsspec<=2024.12.0,>=2023.1.0 in c:\\users\\rob\\qsync\\rug\\year 2\\nlp\\omw\\natural-language-processing\\.venv\\lib\\site-packages (from fsspec[http]<=2024.12.0,>=2023.1.0->datasets) (2024.12.0)\n",
      "Requirement already satisfied: aiohttp in c:\\users\\rob\\qsync\\rug\\year 2\\nlp\\omw\\natural-language-processing\\.venv\\lib\\site-packages (from datasets) (3.11.13)\n",
      "Requirement already satisfied: huggingface-hub>=0.24.0 in c:\\users\\rob\\qsync\\rug\\year 2\\nlp\\omw\\natural-language-processing\\.venv\\lib\\site-packages (from datasets) (0.29.3)\n",
      "Requirement already satisfied: packaging in c:\\users\\rob\\qsync\\rug\\year 2\\nlp\\omw\\natural-language-processing\\.venv\\lib\\site-packages (from datasets) (24.2)\n",
      "Requirement already satisfied: pyyaml>=5.1 in c:\\users\\rob\\qsync\\rug\\year 2\\nlp\\omw\\natural-language-processing\\.venv\\lib\\site-packages (from datasets) (6.0.2)\n",
      "Requirement already satisfied: aiohappyeyeballs>=2.3.0 in c:\\users\\rob\\qsync\\rug\\year 2\\nlp\\omw\\natural-language-processing\\.venv\\lib\\site-packages (from aiohttp->datasets) (2.6.1)\n",
      "Requirement already satisfied: aiosignal>=1.1.2 in c:\\users\\rob\\qsync\\rug\\year 2\\nlp\\omw\\natural-language-processing\\.venv\\lib\\site-packages (from aiohttp->datasets) (1.3.2)\n",
      "Requirement already satisfied: async-timeout<6.0,>=4.0 in c:\\users\\rob\\qsync\\rug\\year 2\\nlp\\omw\\natural-language-processing\\.venv\\lib\\site-packages (from aiohttp->datasets) (5.0.1)\n",
      "Requirement already satisfied: attrs>=17.3.0 in c:\\users\\rob\\qsync\\rug\\year 2\\nlp\\omw\\natural-language-processing\\.venv\\lib\\site-packages (from aiohttp->datasets) (25.2.0)\n",
      "Requirement already satisfied: frozenlist>=1.1.1 in c:\\users\\rob\\qsync\\rug\\year 2\\nlp\\omw\\natural-language-processing\\.venv\\lib\\site-packages (from aiohttp->datasets) (1.5.0)\n",
      "Requirement already satisfied: multidict<7.0,>=4.5 in c:\\users\\rob\\qsync\\rug\\year 2\\nlp\\omw\\natural-language-processing\\.venv\\lib\\site-packages (from aiohttp->datasets) (6.1.0)\n",
      "Requirement already satisfied: propcache>=0.2.0 in c:\\users\\rob\\qsync\\rug\\year 2\\nlp\\omw\\natural-language-processing\\.venv\\lib\\site-packages (from aiohttp->datasets) (0.3.0)\n",
      "Requirement already satisfied: yarl<2.0,>=1.17.0 in c:\\users\\rob\\qsync\\rug\\year 2\\nlp\\omw\\natural-language-processing\\.venv\\lib\\site-packages (from aiohttp->datasets) (1.18.3)\n",
      "Requirement already satisfied: typing-extensions>=3.7.4.3 in c:\\users\\rob\\qsync\\rug\\year 2\\nlp\\omw\\natural-language-processing\\.venv\\lib\\site-packages (from huggingface-hub>=0.24.0->datasets) (4.12.2)\n",
      "Requirement already satisfied: charset-normalizer<4,>=2 in c:\\users\\rob\\qsync\\rug\\year 2\\nlp\\omw\\natural-language-processing\\.venv\\lib\\site-packages (from requests>=2.32.2->datasets) (3.4.1)\n",
      "Requirement already satisfied: idna<4,>=2.5 in c:\\users\\rob\\qsync\\rug\\year 2\\nlp\\omw\\natural-language-processing\\.venv\\lib\\site-packages (from requests>=2.32.2->datasets) (3.10)\n",
      "Requirement already satisfied: urllib3<3,>=1.21.1 in c:\\users\\rob\\qsync\\rug\\year 2\\nlp\\omw\\natural-language-processing\\.venv\\lib\\site-packages (from requests>=2.32.2->datasets) (2.3.0)\n",
      "Requirement already satisfied: certifi>=2017.4.17 in c:\\users\\rob\\qsync\\rug\\year 2\\nlp\\omw\\natural-language-processing\\.venv\\lib\\site-packages (from requests>=2.32.2->datasets) (2025.1.31)\n",
      "Requirement already satisfied: colorama in c:\\users\\rob\\qsync\\rug\\year 2\\nlp\\omw\\natural-language-processing\\.venv\\lib\\site-packages (from tqdm>=4.66.3->datasets) (0.4.6)\n",
      "Requirement already satisfied: python-dateutil>=2.8.2 in c:\\users\\rob\\qsync\\rug\\year 2\\nlp\\omw\\natural-language-processing\\.venv\\lib\\site-packages (from pandas->datasets) (2.9.0.post0)\n",
      "Requirement already satisfied: pytz>=2020.1 in c:\\users\\rob\\qsync\\rug\\year 2\\nlp\\omw\\natural-language-processing\\.venv\\lib\\site-packages (from pandas->datasets) (2025.1)\n",
      "Requirement already satisfied: tzdata>=2022.7 in c:\\users\\rob\\qsync\\rug\\year 2\\nlp\\omw\\natural-language-processing\\.venv\\lib\\site-packages (from pandas->datasets) (2025.1)\n",
      "Requirement already satisfied: six>=1.5 in c:\\users\\rob\\qsync\\rug\\year 2\\nlp\\omw\\natural-language-processing\\.venv\\lib\\site-packages (from python-dateutil>=2.8.2->pandas->datasets) (1.17.0)\n",
      "Using cached datasets-3.3.2-py3-none-any.whl (485 kB)\n",
      "Installing collected packages: datasets\n",
      "  Attempting uninstall: datasets\n",
      "    Found existing installation: datasets 2.10.0\n",
      "    Uninstalling datasets-2.10.0:\n",
      "      Successfully uninstalled datasets-2.10.0\n",
      "Successfully installed datasets-3.3.2\n"
     ]
    }
   ],
   "source": [
    "!pip install --upgrade datasets"
   ]
  },
  {
   "cell_type": "markdown",
   "metadata": {
    "id": "iw76yPDhOia1"
   },
   "source": [
    "## Download NMT data"
   ]
  },
  {
   "cell_type": "markdown",
   "metadata": {
    "id": "AL42TT6Tb0S7"
   },
   "source": [
    "We first download the data for NMT, which contains pairs of parallel sentences."
   ]
  },
  {
   "cell_type": "code",
   "execution_count": 3,
   "metadata": {
    "colab": {
     "base_uri": "https://localhost:8080/"
    },
    "id": "TmD7lPOXOlm2",
    "outputId": "3a0491b1-127a-4890-9fbf-bd82a85d9378"
   },
   "outputs": [],
   "source": [
    "#!wget -O resources.zip \"https://github.com/Tsegaye-misikir/NLP-rug/raw/main/MLT/resources.zip\"\n",
    "#!unzip -q resources.zip"
   ]
  },
  {
   "cell_type": "markdown",
   "metadata": {
    "id": "l5TS8PG0Os0f"
   },
   "source": [
    "## Data preprocessing\n",
    "In this section we will write code to load and tokenize the data for NMT.\n",
    "\n",
    "\n",
    "The parallel data is provided as huggingface datasets, one for each split of `train`, `validation` and `test`. We load it via the `load_from_disk` method and inspect its features. If you'd like to know more about these dataset objects, have a look at [this tutorial](https://huggingface.co/docs/datasets/access)."
   ]
  },
  {
   "cell_type": "code",
   "execution_count": 4,
   "metadata": {
    "colab": {
     "base_uri": "https://localhost:8080/"
    },
    "id": "dxi3D2oX1iIK",
    "outputId": "9f4fa594-62ac-4260-ce13-3ed8e262bde5"
   },
   "outputs": [
    {
     "name": "stderr",
     "output_type": "stream",
     "text": [
      "c:\\Users\\Rob\\Qsync\\Rug\\Year 2\\nlp\\OMW\\Natural-Language-Processing\\.venv\\lib\\site-packages\\tqdm\\auto.py:21: TqdmWarning: IProgress not found. Please update jupyter and ipywidgets. See https://ipywidgets.readthedocs.io/en/stable/user_install.html\n",
      "  from .autonotebook import tqdm as notebook_tqdm\n"
     ]
    },
    {
     "name": "stdout",
     "output_type": "stream",
     "text": [
      "Summary of splits: DatasetDict({\n",
      "    train: Dataset({\n",
      "        features: ['text_en', 'text_fr'],\n",
      "        num_rows: 8701\n",
      "    })\n",
      "    validation: Dataset({\n",
      "        features: ['text_en', 'text_fr'],\n",
      "        num_rows: 485\n",
      "    })\n",
      "    test: Dataset({\n",
      "        features: ['text_en', 'text_fr'],\n",
      "        num_rows: 486\n",
      "    })\n",
      "})\n",
      "First training example: {'text_en': 'i m tough .', 'text_fr': 'je suis dure .'}\n"
     ]
    }
   ],
   "source": [
    "from datasets import load_from_disk\n",
    "raw_text_datasets = load_from_disk(\"resources/parallel_en_fr_corpus\")\n",
    "print(\"Summary of splits:\", raw_text_datasets)\n",
    "print(\"First training example:\", raw_text_datasets[\"train\"][0])"
   ]
  },
  {
   "cell_type": "markdown",
   "metadata": {
    "id": "n1NmS9j01iIK"
   },
   "source": [
    "You are also provided with two pre-trained tokenizers for the source and target languages respectively, which we can load with the hugginface transfomers library. [This tutorial](https://huggingface.co/docs/transformers/preprocessing#natural-language-processing) provides an introduction to using pre-trained tokenizers and the powerful `AutoTokenizer` class. The tokenizers are based on byte-pair encodings which break words into smaller units. This is aimed at reducing the sparsity of words, as subwords can be shared between different rare words. If you are interested in learning more, see the paper [Neural Machine Translation of Rare Words with Subword Units](https://www.aclweb.org/anthology/P16-1162.pdf)."
   ]
  },
  {
   "cell_type": "code",
   "execution_count": 5,
   "metadata": {
    "colab": {
     "base_uri": "https://localhost:8080/"
    },
    "id": "Iqnyk7Xo1iIK",
    "outputId": "b4a8b71b-8c5c-4e03-f106-60bcce72053c"
   },
   "outputs": [
    {
     "name": "stdout",
     "output_type": "stream",
     "text": [
      "\n",
      "*** Example ***\n",
      "Example sentence: we have an example\n",
      "Tokenizer output: {'input_ids': [1, 64, 324, 103, 266, 1490, 92, 2], 'token_type_ids': [0, 0, 0, 0, 0, 0, 0, 0], 'attention_mask': [1, 1, 1, 1, 1, 1, 1, 1]}\n",
      "Tokens: ['<s>', '▁we', '▁have', '▁an', '▁ex', 'amp', 'le', '</s>']\n",
      "Reconstructed sentence <s> we have an example</s>\n"
     ]
    }
   ],
   "source": [
    "from transformers import AutoTokenizer\n",
    "source_tokenizer = AutoTokenizer.from_pretrained(\"resources/tokenizer_fr\")\n",
    "target_tokenizer = AutoTokenizer.from_pretrained(\"resources/tokenizer_en\")\n",
    "\n",
    "\n",
    "# As a demonstration, we will the following English sentence to tokens.\n",
    "example_sentence = \"we have an example\"\n",
    "tokenizer_output = target_tokenizer(example_sentence)\n",
    "print(\"\\n*** Example ***\")\n",
    "print(\"Example sentence:\", example_sentence)\n",
    "print(\"Tokenizer output:\", tokenizer_output)\n",
    "\n",
    "# We convert every token id to its associated string, but find the special character ▁ which indicates the beginning of a word.\n",
    "# Note that very common words are represented by a single token, while others are split into subunits due to the small vocab size.\n",
    "# Also note that †he tokenizer already adds special tokens to the beginning and end of the sentence.\n",
    "decoded_sequence = [target_tokenizer.decode(token) for token in tokenizer_output[\"input_ids\"]]\n",
    "print(\"Tokens:\", decoded_sequence)\n",
    "\n",
    "# By replacing the special character ▁ with whitespace, we can reconstruct a legibile sentence,\n",
    "# which differs from the original example by special tokens, includings <unk> tokens, and minor whitespace differences.\n",
    "reconstructed = \"\".join(decoded_sequence).replace(\"▁\", \" \")\n",
    "print(\"Reconstructed sentence\", reconstructed)"
   ]
  },
  {
   "cell_type": "markdown",
   "metadata": {
    "id": "4ui6m-oh1iIL"
   },
   "source": [
    "We now want to convert the entire dataset to token ids.\n",
    "Specifically, we want to use the tokenizers to create a dataset with\n",
    "features \"encoder_input_ids\" and \"decoder_input_ids\", which both have type `List[int]`\n",
    "and which will later be the inputs to our encoder-decoder model. We will implement this using the powerful `map` function. You can find its API reference [here](https://huggingface.co/docs/datasets/v2.10.0/en/package_reference/main_classes#datasets.Dataset.map)."
   ]
  },
  {
   "cell_type": "code",
   "execution_count": 6,
   "metadata": {
    "id": "XPb6HpAH1iIL"
   },
   "outputs": [],
   "source": [
    "from typing import Dict, List\n",
    "\n",
    "def map_example(example: Dict[str, str]) -> Dict[str, List[int]]:\n",
    "    # TODO: Tokenize the source and target text for an entry in the parallel dataset\n",
    "    # and return a dictionary with the keys \"encoder_input_ids\" and \"decoder_input_ids\".\n",
    "    # You can use `source_tokenizer` and `target_tokenizer`\n",
    "    french_tokens = source_tokenizer(example['text_fr'])\n",
    "    english_tokens = target_tokenizer(example['text_en'])\n",
    "    return {\"encoder_input_ids\": french_tokens[\"input_ids\"], \"decoder_input_ids\": english_tokens[\"input_ids\"]}\n",
    "    raise NotImplementedError(\"The map_item function is not implemented yet\")\n",
    "\n",
    "# When mapped is applied to the DatasetDict object, it will apply `map` separately to each split.\n",
    "tokenized_datasets = raw_text_datasets.map(map_example, batched=False)\n",
    "\n",
    "# The `remove_columns` removes the existing text features from the new dataset, as they are no longer needed.\n",
    "tokenized_datasets = tokenized_datasets.remove_columns(raw_text_datasets.column_names[\"train\"])\n",
    "\n",
    "# Sanity checks on the new dataset\n",
    "assert set(tokenized_datasets.column_names[\"train\"]) == {\"decoder_input_ids\", \"encoder_input_ids\"}\n",
    "assert len(tokenized_datasets[\"train\"]) == len(raw_text_datasets[\"train\"])"
   ]
  },
  {
   "cell_type": "markdown",
   "metadata": {
    "id": "L3qPsuS71iIL"
   },
   "source": [
    "## Transformer model for NMT"
   ]
  },
  {
   "cell_type": "markdown",
   "metadata": {
    "id": "R90j2WL61iIM"
   },
   "source": [
    "We will now implement a encoder-decoder transformer model.\n",
    "We already provide code for the Feedforward Layers and Transformer Blocks, but you will have to implement the MultiHeadAttention and Embedding layer from scratch, as well as registering all the layers in the final EncoderDecoderModel. Pay attention to doc-strings and typing information to understand the context and purpose of each missing code block!"
   ]
  },
  {
   "cell_type": "code",
   "execution_count": 7,
   "metadata": {
    "id": "nVjxNtLz1iIM"
   },
   "outputs": [],
   "source": [
    "import torch\n",
    "import torch.nn as nn\n",
    "import torch.nn.functional as F\n",
    "\n",
    "import math\n",
    "from typing import Optional, Dict, List, Tuple"
   ]
  },
  {
   "cell_type": "code",
   "execution_count": 8,
   "metadata": {
    "id": "7pMQHadt1iIM"
   },
   "outputs": [],
   "source": [
    "class MultiHeadAttention(nn.Module):\n",
    "    def __init__(self,\n",
    "                 hidden_size: int,\n",
    "                 num_attention_heads: int,\n",
    "                 is_causal_attention: bool = False,\n",
    "                 is_cross_attention: bool = False):\n",
    "        \"\"\"Defines a flexible multi-head attention layer.\n",
    "\n",
    "        This layer should define parameters for the query, key and value projections, as well as the output projection,\n",
    "        and implement the following steps:\n",
    "        (1) Project the input vectors using query projection and key projection matrices.\n",
    "        (2) Compute the head-wise attention scores scaled by 1/sqrt(head_dim)\n",
    "        (3) Perform appropriate masking to the attention scores using key_padding_mask and optionally causal attention.\n",
    "        (4) Normalize the head-wise attention scores using softmax.\n",
    "        (5) Compute the value projections and then aggregate using the normalized attention scores.\n",
    "        (6) Use the output projection to obtain the final output vectors.\n",
    "        When is_cross_attention is True, the key and value projections are computed from the encoder outputs.\n",
    "        Note that we do not use attention weight dropout in this implementation.\n",
    "\n",
    "        Args:\n",
    "            hidden_size: The dimensionality of the input vectors.\n",
    "            num_attention_heads: The number of attention heads.\n",
    "            is_causal_attention: Whether to use causal masking,\n",
    "                    where tokens cannot attend to the future tokens on their right.\n",
    "            is_cross_attention: Whether to use cross attention,\n",
    "                    where we use different inputs for the key/value vs. query vectors.\n",
    "        \"\"\"\n",
    "        super().__init__()\n",
    "        assert hidden_size % num_attention_heads == 0, \"The hidden size must be divisible by the number of attention heads.\"\n",
    "        self.head_dim = hidden_size // num_attention_heads  # embedding dimension of query and key vectors per head\n",
    "\n",
    "        # TODO Initialize the module and its parameters here.\n",
    "        # This module should be able to handle both full self-attention, causal masked self-attention and cross-attention.\n",
    "        # IMPORTANT: You are not allowed to use `nn.MultiheadAttention` or `nn.functional.scaled_dot_product_attention`!\n",
    "        self.hidden_size = hidden_size\n",
    "        self.num_attention_heads = num_attention_heads\n",
    "        self.head_dim = hidden_size // num_attention_heads  # Size per head\n",
    "\n",
    "        # Projection matrices for Q, K, V\n",
    "        self.query_proj = nn.Linear(hidden_size, hidden_size, bias=False)\n",
    "        self.key_proj = nn.Linear(hidden_size, hidden_size, bias=False)\n",
    "        self.value_proj = nn.Linear(hidden_size, hidden_size, bias=False)\n",
    "\n",
    "        # Output projection (to transform attention output back)\n",
    "        self.out_proj = nn.Linear(hidden_size, hidden_size, bias=False)\n",
    "\n",
    "        # Save flags\n",
    "        self.is_causal_attention = is_causal_attention\n",
    "        self.is_cross_attention = is_cross_attention\n",
    "        \n",
    "\n",
    "        #raise NotImplementedError(\"The __init__ function in TransformerAttention is not implemented yet.\")\n",
    "\n",
    "    def causal_attention_mask(self,\n",
    "                              sequence_length: int,\n",
    "                              device: Optional[torch.device] = None) -> torch.FloatTensor:\n",
    "        \"\"\"Return a Float tensor that can be added to the (un-normalized) attention scores for causal masking.\n",
    "\n",
    "        Args:\n",
    "            sequence_length: width and height of the attention mask tensor.\n",
    "            device: which torch device the resulting tensor should be on (important if you use GPU).\n",
    "\n",
    "        Returns:\n",
    "            A Float tensor of shape (1, 1, sequence_length, sequence_length) on device `device`,\n",
    "            where the entries above the diagonal contain large negative values,\n",
    "            which means that a query at position i can't attend to a key at position j>i.\n",
    "        \"\"\"\n",
    "\n",
    "        # TODO Implement the forward function.\n",
    "        # IMPORTANT: For full credit, you should not use python loops.\n",
    "        #\n",
    "        # Hint 1: You can pick an arbitrary large value (e.g., -10^{6}), but note that\n",
    "        #         using `float(\"-inf\")` might lead to numerical issues and 'nan' values during training.\n",
    "        #\n",
    "        # Hint 2: Useful pytorch functions for this are `torch.arange` or `torch.triu`.\n",
    "        #\n",
    "        # Hint 3: You can move the tensor you create to a device by calling `tensor.to(device)`\n",
    "        #\n",
    "        # You should use this function in `forward` and use the returned tensor to implement causal masking\n",
    "        # by adding it to the un-normalized attention scores of shape (batch_size, num_heads, sequence_length, sequence_length),\n",
    "        # as torch will handle broadcasting and expand the first two dimensions to batch size and num_heads.\n",
    "        #\n",
    "        # You will the masking tensor to be on the same device as the attention scores's device,\n",
    "        # which you can via the attribute `tensor.device`.\n",
    "        mask = torch.triu(torch.ones(sequence_length, sequence_length, device=device) * -1e6, diagonal=1)\n",
    "        return mask.unsqueeze(0).unsqueeze(0)\n",
    "\n",
    "\n",
    "        raise NotImplementedError(\"The forward function in TransformerAttention is not implemented yet.\")\n",
    "\n",
    "\n",
    "    def forward(self,\n",
    "                hidden_states: torch.FloatTensor,\n",
    "                key_padding_mask: torch.BoolTensor,\n",
    "                encoder_outputs: Optional[torch.FloatTensor] = None) -> Tuple[torch.FloatTensor, torch.FloatTensor]:\n",
    "        \"\"\"Computes scaled dot-product attention and returns the output of the attention layer.\n",
    "\n",
    "        Args:\n",
    "            hidden_states: Tensor of shape (batch_size, sequence_length, hidden_size) - the input vectors to the layer.\n",
    "            key_padding_mask: Tensor of shape (batch_size, sequence_length) indicating which tokens are padding tokens.\n",
    "                    A `True` entry means that this token should be ignored for the purpose of attention.\n",
    "                    In the case of cross-attention, the tensor has shape (batch_size, encoder_sequence_length).\n",
    "            encoder_outputs: Optional tensor of shape (batch_size, encoder_sequence_length, hidden_size).\n",
    "                    The output vectors of the encoder and only passed if the layer performs cross-attention.\n",
    "\n",
    "        Returns:\n",
    "            A (layer_output, attention_weights) where layer_output is a tensor of shape (batch_size, sequence_length, hidden_size)\n",
    "            and attention_weights are the normalized attention scores in the form of\n",
    "            a tensor of shape (batch_size, num_attention_heads, number_of_query_tokens, number_of_key_tokens).\n",
    "        \"\"\"\n",
    "\n",
    "        # TODO Implement the forward function.\n",
    "        # IMPORTANT: For full credit, you should not use python loops. Furthermore,\n",
    "        #            you are not allowed to use `nn.MultiheadAttention` or `nn.functional.scaled_dot_product_attention`!\n",
    "        #\n",
    "        # Hint 1: Use `torch.reshape` to add a new axis for the attention head,\n",
    "        #         which will allow you to process all attention heads in parallel.\n",
    "        #\n",
    "        # Hint 2: You can use `torch.transpose` to swap the order of two axes,\n",
    "        #         As the attention head dimension should be next to the batch size,\n",
    "        #         see the shape of the output attention weights.\n",
    "        #\n",
    "        # Hint 3: `torch.bmm(matrix1, matrix2)` is useful for computing batched matrix multiplications\n",
    "        #         If matrix1 has shape (B, M, N) and matrix2 has shape (B, N, P),\n",
    "        #         it performs `B` matrix multiplications and outputs a tensor of shape (B, M, P).\n",
    "        #         Alternatively, `torch.einsum` should be very useful.\n",
    "        #         (We really encourage you to check out the documentation of `torch.einsum`,\n",
    "        #         it can really make your life easier here.)\n",
    "        if self.is_cross_attention:\n",
    "            query = self.query_proj(hidden_states)\n",
    "            key = self.key_proj(encoder_outputs)\n",
    "            value = self.value_proj(encoder_outputs)\n",
    "        else:\n",
    "            query = self.query_proj(hidden_states)\n",
    "            key = self.key_proj(hidden_states)\n",
    "            value = self.value_proj(hidden_states)\n",
    "\n",
    "        batch_size, seq_length, _ = hidden_states.size()\n",
    "        query = query.view(batch_size, seq_length, self.num_attention_heads, self.head_dim).transpose(1, 2)\n",
    "        key = key.view(batch_size, -1, self.num_attention_heads, self.head_dim).transpose(1, 2)\n",
    "        value = value.view(batch_size, -1, self.num_attention_heads, self.head_dim).transpose(1, 2)\n",
    "\n",
    "        dot_product = torch.matmul(query, key.transpose(-2, -1)) \n",
    "        attention_scores = self.scale(dot_product, self.head_dim)\n",
    "\n",
    "        if self.is_causal_attention:\n",
    "            causal_mask = self.causal_attention_mask(seq_length, device=hidden_states.device)\n",
    "            attention_scores = attention_scores + causal_mask\n",
    "\n",
    "        if key_padding_mask is not None:\n",
    "            attention_scores = attention_scores.masked_fill(key_padding_mask.unsqueeze(1).unsqueeze(2), -1e6)\n",
    "\n",
    "        attention_weights = F.softmax(attention_scores, dim=-1)\n",
    "        attention_output = torch.matmul(attention_weights, value)\n",
    "\n",
    "        attention_output = attention_output.transpose(1, 2).contiguous().view(batch_size, seq_length, self.hidden_size)\n",
    "        layer_output = self.out_proj(attention_output)\n",
    "\n",
    "        return layer_output, attention_weights\n",
    "\n",
    "        \n",
    "\n",
    "         \n",
    "        \n",
    "        #raise NotImplementedError(\"The forward function in TransformerAttention is not implemented yet.\")\n",
    "    \n",
    "    def scale(self, dot_product: torch.FloatTensor, head_dim: int) -> torch.FloatTensor:\n",
    "        \"\"\"Scales the dot product by the square root of the head dimension.\n",
    "\n",
    "        Args:\n",
    "            dot_product: The dot-product tensor of shape (batch_size, num_heads, sequence_length, sequence_length).\n",
    "            head_dim: The dimensionality of the query and key vectors per head.\n",
    "\n",
    "        Returns:\n",
    "            The dot product scaled by 1/sqrt(head_dim).\n",
    "        \"\"\"\n",
    "        return dot_product / math.sqrt(head_dim)\n",
    "\n",
    "\n",
    "    def softmax(self, matrix):\n",
    "        return F.softmax(matrix, dim=1)"
   ]
  },
  {
   "cell_type": "markdown",
   "metadata": {
    "id": "JNhiLcSw1iIM"
   },
   "source": [
    "Before we move on to the other modules, you should implement a sanity check for your attention implementation:\n",
    "1. We check the dimensions of the output of the layer and\n",
    "2. We plot the attention weights to some toy embedding inputs.\n",
    "We assume that the last token in the encoder and the last two tokens in the decoder are pad tokens."
   ]
  },
  {
   "cell_type": "code",
   "execution_count": 10,
   "metadata": {
    "id": "epu_wgGi1iIM"
   },
   "outputs": [
    {
     "data": {
      "image/png": "[encoded data removed]",
      "text/plain": [
       "<Figure size 640x480 with 1 Axes>"
      ]
     },
     "metadata": {},
     "output_type": "display_data"
    },
    {
     "data": {
      "image/png": "[encoded data removed]",
      "text/plain": [
       "<Figure size 640x480 with 1 Axes>"
      ]
     },
     "metadata": {},
     "output_type": "display_data"
    },
    {
     "data": {
      "image/png": "[encoded data removed]",
      "text/plain": [
       "<Figure size 640x480 with 1 Axes>"
      ]
     },
     "metadata": {},
     "output_type": "display_data"
    },
    {
     "data": {
      "image/png": "[encoded data removed]",
      "text/plain": [
       "<Figure size 640x480 with 1 Axes>"
      ]
     },
     "metadata": {},
     "output_type": "display_data"
    }
   ],
   "source": [
    "embed_dim = 8\n",
    "num_heads = 2\n",
    "batch_size = 1\n",
    "encoder_seq_length = 5\n",
    "decoder_seq_length = 7\n",
    "\n",
    "encoder_outputs = torch.randn(batch_size, encoder_seq_length, embed_dim)\n",
    "decoder_inputs = torch.randn(batch_size, decoder_seq_length, embed_dim)\n",
    "\n",
    "encoder_padding_mask = torch.zeros(batch_size, encoder_seq_length, dtype=torch.bool)\n",
    "encoder_padding_mask[:, -1] = True # The last encoder token is a padding tokens\n",
    "\n",
    "decoder_padding_mask = torch.zeros(batch_size, decoder_seq_length, dtype=torch.bool)\n",
    "decoder_padding_mask[:, -2:] = True # The last two decoder tokens are padding token\n",
    "\n",
    "\n",
    "cross_attention = MultiHeadAttention(embed_dim, num_heads, is_cross_attention=True)\n",
    "causal_attention = MultiHeadAttention(embed_dim, num_heads, is_causal_attention=True)\n",
    "\n",
    "cross_attention_out, cross_attention_weights = cross_attention(decoder_inputs, encoder_padding_mask, encoder_outputs)\n",
    "causal_attention_out, causal_attention_weights = causal_attention(decoder_inputs, decoder_padding_mask)\n",
    "\n",
    "# Make sure your outputs have the right hapes\n",
    "assert cross_attention_out.shape == (batch_size, decoder_seq_length, embed_dim)\n",
    "assert cross_attention_weights.shape == (batch_size, num_heads, decoder_seq_length, encoder_seq_length)\n",
    "assert causal_attention_out.shape == (batch_size, decoder_seq_length, embed_dim)\n",
    "assert causal_attention_weights.shape == (batch_size, num_heads, decoder_seq_length, decoder_seq_length)\n",
    "\n",
    "# Check that the attention weights are normalized\n",
    "assert torch.isclose(cross_attention_weights.sum(dim=-1), torch.tensor(1.0)).all()\n",
    "assert torch.isclose(causal_attention_weights.sum(dim=-1), torch.tensor(1.0)).all()\n",
    "\n",
    "# Check if the attention masking works\n",
    "assert torch.isclose(cross_attention_weights[:,:,:,-1], torch.tensor(0.0)).all()\n",
    "assert torch.isclose(causal_attention_weights[:,:,:,-2:], torch.tensor(0.0)).all()\n",
    "assert torch.isclose(causal_attention_weights[:,:,2,3:], torch.tensor(0.0)).all()\n",
    "\n",
    "\n",
    "import matplotlib.pyplot as plt\n",
    "\n",
    "def plot_attention_matrix(attention_matrix, title):\n",
    "    \"\"\"Creates a new figure and plots the normalized attention weights as a heatmap.\n",
    "\n",
    "    This should provide a colorbar for the scale of the heatmap and label the axes \"query token position\" and \"key token position\".\n",
    "    Args:\n",
    "        attention_matrix: A numpy array of shape (number_of_query_tokens, number_of_key_tokens)\n",
    "        title: The title of the plot.\n",
    "    \"\"\"\n",
    "    # TODO Implement this function\n",
    "    plt.imshow(attention_matrix, cmap='hot', interpolation='nearest')\n",
    "    plt.title(title)\n",
    "    plt.show()\n",
    "    #raise NotImplementedError(\"Plotting the attention weights is not implemented yet.\")\n",
    "\n",
    "plot_attention_matrix(cross_attention_weights[0,0].detach().numpy(), \"cross-attention, head 1\")\n",
    "plot_attention_matrix(cross_attention_weights[0,1].detach().numpy(), \"cross-attention, head 2\")\n",
    "plot_attention_matrix(causal_attention_weights[0,0].detach().numpy(), \"causal self-attention, head 1\")\n",
    "plot_attention_matrix(causal_attention_weights[0,1].detach().numpy(), \"causal self-attention, head 2\")"
   ]
  },
  {
   "cell_type": "code",
   "execution_count": null,
   "metadata": {
    "id": "d86pBrD71iIN"
   },
   "outputs": [],
   "source": [
    "class TransformerEmbeddings(nn.Module):\n",
    "    def __init__(self, vocab_size: int, hidden_size: int, max_sequence_length: int):\n",
    "        \"\"\"Defines the embedding layer with learnt positional embeddings.\n",
    "\n",
    "        This layer defines both the token embeddings and positional embeddings,\n",
    "        which are added together to form the final embedding.\n",
    "\n",
    "        Args:\n",
    "            vocab_size: The size of the vocabulary,\n",
    "                    used to define the size of the token embedding table.\n",
    "            hidden_size: The dimensionality of the embedding space for both token embeddings and positional embeddings.\n",
    "            max_sequence_length: The maximum sequence length of the input sequences,\n",
    "                    used to define the size of the position embedding table.\n",
    "\n",
    "        Note that this implementation does not use dropout on the embeddings\n",
    "        and uses learnt positional embeddings instead of sinusoidal embeddings.\n",
    "        \"\"\"\n",
    "        super().__init__()\n",
    "\n",
    "        # TODO Initialize the module and its parameters here.\n",
    "        # You should use `nn.Embedding` for both token embeddings and positional embeddings\n",
    "\n",
    "        raise NotImplementedError(\"The __init__ function in TransformerEmbeddings is not implemented yet.\")\n",
    "\n",
    "    def compute_logits(self, decoder_output: torch.FloatTensor) -> torch.FloatTensor:\n",
    "        \"\"\"Computes the logits for the next token prediction given the decoder output.\n",
    "\n",
    "        Args:\n",
    "            decoder_output: Tensor of shape (batch_size, sequence_length, hidden_size) - the output of the decoder.\n",
    "\n",
    "        Returns:\n",
    "            Tensor of shape (batch_size, sequence_length, vocab_size) containing the logits for the next token prediction.\n",
    "        \"\"\"\n",
    "\n",
    "        # TODO Implement this function\n",
    "        # Hint: you can access the weight parameter matrix via .weight of an nn.Embedding module:\n",
    "        # Example:\n",
    "        # ```embeddings = nn.Embedding(num_embeddings, embedding_dim)\n",
    "        # assert list(embeddings.weight.shape) == [num_embeddings, embedding_dim]```\n",
    "        # torch.matmul or F.linear may also be useful here.\n",
    "\n",
    "        raise NotImplementedError(\"The compute_logits function in TransformerEmbeddings is not implemented yet.\")\n",
    "\n",
    "    def forward(self, input_ids: torch.LongTensor) -> torch.FloatTensor:\n",
    "        \"\"\"Computes the embeddings for the input tokens.\n",
    "\n",
    "        Args:\n",
    "            input_ids: Tensor of shape (batch_size, sequence_length) containing the input token ids.\n",
    "\n",
    "        Returns:\n",
    "            Tensor of shape (batch_size, sequence_length, hidden_size) containing\n",
    "                    the sum of token embeddings and position embeddings for the input tokens.\n",
    "        \"\"\"\n",
    "\n",
    "        # TODO Implement the forward pass of the embedding layer.\n",
    "        # IMPORTANT: For full credit, you should not use python loops!\n",
    "\n",
    "        raise NotImplementedError(\"The forward function in TransformerEmbeddings is not implemented yet.\")"
   ]
  },
  {
   "cell_type": "code",
   "execution_count": null,
   "metadata": {
    "id": "CFW-eNNB1iIN"
   },
   "outputs": [],
   "source": [
    "class TransformerBlock(nn.Module):\n",
    "    def __init__(self,\n",
    "                 hidden_size: int,\n",
    "                 intermediate_size: int,\n",
    "                 num_attention_heads: int,\n",
    "                 hidden_dropout_prob: float,\n",
    "                 is_decoder: bool = False):\n",
    "        \"\"\"Defines a single Transformer block, which can be either for the encoder or the decoder.\n",
    "\n",
    "        Args:\n",
    "            hidden_size: The dimensionality of the input and output vectors of this layer.\n",
    "            intermediate_size: The intermediate size of the feedforward layers.\n",
    "            num_attention_heads: The number of attention heads.\n",
    "            hidden_dropout_prob: The dropout probability for the hidden states.\n",
    "            is_decoder: Whether this block is part of the decoder.\n",
    "        \"\"\"\n",
    "        super().__init__()\n",
    "\n",
    "        self.is_decoder = is_decoder\n",
    "        self.self_attention = MultiHeadAttention(hidden_size, num_attention_heads, is_causal_attention=is_decoder)\n",
    "        self.self_attention_layer_norm = nn.LayerNorm(hidden_size)\n",
    "\n",
    "        if is_decoder:\n",
    "            self.cross_attention = MultiHeadAttention(hidden_size, num_attention_heads, is_cross_attention=True)\n",
    "            self.cross_attention_layer_norm = nn.LayerNorm(hidden_size)\n",
    "\n",
    "        self.feedforward = nn.Sequential(\n",
    "            nn.Linear(hidden_size, intermediate_size),\n",
    "            nn.ReLU(),\n",
    "            nn.Linear(intermediate_size, hidden_size),\n",
    "            nn.Dropout(hidden_dropout_prob))\n",
    "        self.feedforward_layer_norm = nn.LayerNorm(hidden_size)\n",
    "\n",
    "    def forward(self,\n",
    "                hidden_states: torch.FloatTensor,\n",
    "                padding_mask: torch.BoolTensor,\n",
    "                encoder_outputs: Optional[torch.FloatTensor] = None,\n",
    "                encoder_padding_mask: Optional[torch.BoolTensor] = None) -> torch.FloatTensor:\n",
    "        \"\"\"Defines a single Transformer block, either for the encoder or the decoder.\n",
    "\n",
    "        Args:\n",
    "            hidden_states: Tensor of shape (batch_size, sequence_length, hidden_size) - the outputs from the previous layer.\n",
    "            padding_mask: Tensor of shape (batch_size, sequence_length) indicating which tokens are padding tokens.\n",
    "                    A `True` entry means that this token should be ignored for the purpose of attention.\n",
    "            encoder_outputs: Optional tensor of shape (batch_size, encoder_sequence_length, hidden_size),\n",
    "                    which are the output vectors of the encoder. This argument is only used by decoder blocks.\n",
    "            encoder_padding_mask: Optional tensor of shape (batch_size, encoder_sequence_length) indicating\n",
    "                    which encoder tokens are padding tokens. This argument is only used in decoder blocks.\n",
    "                    A `True` entry means that this token should be ignored for the purpose of attention.\n",
    "\n",
    "        \"\"\"\n",
    "        hidden_states = self.self_attention(hidden_states, padding_mask)[0] + hidden_states\n",
    "        hidden_states = self.self_attention_layer_norm(hidden_states)\n",
    "\n",
    "        if self.is_decoder:\n",
    "            hidden_states = self.cross_attention(hidden_states, encoder_padding_mask, encoder_outputs)[0] + hidden_states\n",
    "            hidden_states = self.cross_attention_layer_norm(hidden_states)\n",
    "\n",
    "        hidden_states = self.feedforward(hidden_states) + hidden_states\n",
    "        hidden_states = self.feedforward_layer_norm(hidden_states)\n",
    "        return hidden_states"
   ]
  },
  {
   "cell_type": "code",
   "execution_count": null,
   "metadata": {
    "id": "dC_EQSQ51iIN"
   },
   "outputs": [],
   "source": [
    "class EncoderDecoderModel(nn.Module):\n",
    "    def __init__(self,\n",
    "                 source_vocab_size: int,\n",
    "                 target_vocab_size: int,\n",
    "                 hidden_size: int,\n",
    "                 intermediate_size: int,\n",
    "                 num_attention_heads: int,\n",
    "                 num_encoder_layers: int,\n",
    "                 num_decoder_layers: int,\n",
    "                 max_sequence_length: int,\n",
    "                 hidden_dropout_prob: float):\n",
    "        \"\"\"A encoder-decoder transformer model which can be used for NMT.\n",
    "\n",
    "        Args:\n",
    "            source_vocab_size: The size of the source vocabulary.\n",
    "            target_vocab_size: The size of the target vocabulary.\n",
    "            hidden_size: The dimensionality of all input and output embeddings.\n",
    "            intermediate_size: The intermediate size in the feedforward layers.\n",
    "            num_attention_heads: The number of attention heads in each multi-head attention modules.\n",
    "            num_encoder_layers: The number of transformer blocks in the encoder.\n",
    "            num_decoder_layers: The number of transformer blocks in the decoder.\n",
    "            max_sequence_length: The maximum sequence length that this model can handle.\n",
    "            hidden_dropout_prob: The dropout probability in the hidden state in each block.\n",
    "        \"\"\"\n",
    "\n",
    "        super().__init__()\n",
    "        # TODO Register the input embedding modules and the encoder and decoder blocks.\n",
    "        # You should use the TransformerBlock and TransformerEmbeddings sub-modules.\n",
    "        #\n",
    "        # Hint: Check out `nn.ModuleList` to register a variable number of sub-modules.\n",
    "\n",
    "        raise NotImplementedError(\"The __init__ function is not implemented yet.\")\n",
    "\n",
    "    def forward_encoder(self, input_ids: torch.LongTensor, padding_mask: torch.BoolTensor) -> torch.FloatTensor:\n",
    "        \"\"\"Implement the forward pass of the encoder.\n",
    "\n",
    "        Args:\n",
    "            input_ids: tensor of shape (batch_size, sequence_length) containing the input token ids to the encoder.\n",
    "            padding_mask: tensor of shape (batch_size, sequence_length) indicating which encoder tokens are padding tokens (`True`)\n",
    "                    and should be ignored in self-attention computations.\n",
    "\n",
    "        Returns:\n",
    "            Tensor of shape (batch_size, sequence_length, hidden_size) containing the output embeddings of the encoder.\n",
    "        \"\"\"\n",
    "\n",
    "        # TODO Implement this function\n",
    "\n",
    "        raise NotImplementedError(\"The forward_encoder function is not implemented yet.\")\n",
    "\n",
    "    def forward_decoder(self,\n",
    "                        input_ids: torch.LongTensor,\n",
    "                        padding_mask: torch.BoolTensor,\n",
    "                        encoder_outputs: torch.FloatTensor,\n",
    "                        encoder_padding_mask: torch.BoolTensor) -> torch.FloatTensor:\n",
    "        \"\"\"Implement the forward pass of the decoder.\n",
    "\n",
    "        Args:\n",
    "            input_ids: Tensor of shape (batch_size, sequence_length) containing the input token ids to the decoder.\n",
    "            padding_mask: Tensor of shape (batch_size, sequence_length) indicating which decoder tokens are padding tokens (`True`)\n",
    "                    and should be ignored in self-attention computations.\n",
    "            encoder_outputs: Tensor of shape (batch_size, encoder_sequence_length, hidden_size) containing the output embeddings of the encoder.\n",
    "            encoder_padding_mask: Tensor of shape (batch_size, encoder_sequence_length) indicating which encoder tokens are padding tokens (`True`)\n",
    "                    and should be ignored in cross-attention computations.\n",
    "\n",
    "        Returns:\n",
    "            Tensor of shape (batch_size, sequence_length, target_vocabulary_size)\n",
    "            containing the logits for predicting the next token in the target sequence.\n",
    "        \"\"\"\n",
    "\n",
    "        # TODO Implement this function\n",
    "\n",
    "        raise NotImplementedError(\"The forward_decoder function has to be implemented.\")\n",
    "\n",
    "    def forward(self, encoder_input_ids, encoder_padding_mask, decoder_input_ids, decoder_padding_mask):\n",
    "        encoder_outputs = self.forward_encoder(encoder_input_ids, encoder_padding_mask)\n",
    "        decoder_logits = self.forward_decoder(decoder_input_ids, decoder_padding_mask, encoder_outputs, encoder_padding_mask)\n",
    "        return decoder_logits"
   ]
  },
  {
   "cell_type": "markdown",
   "metadata": {
    "id": "Mbf1FkZteHIW"
   },
   "source": [
    "## Train the model\n",
    "\n",
    "In this section, we train the seq2seq model on the parallel tokenized corpus.\n",
    "Before you start training models, you should implement and test the model and its sub-modules, especially the attention.\n",
    "\n",
    "First, we implement a `collate` function, which takes a list of examples from the dataset and forms a batch,\n",
    "consisting of padded encoder and decoder input ids, as well as encoder and decoder padding masks."
   ]
  },
  {
   "cell_type": "code",
   "execution_count": null,
   "metadata": {
    "id": "VknfRSbb1iIN"
   },
   "outputs": [],
   "source": [
    "def collate_fn(examples: List[Dict[str, List[int]]]) -> Dict[str, torch.Tensor]:\n",
    "    \"\"\"Collates a list of variable length sequences from the dataset into a batch of pytorch tensors with padding.\"\"\"\n",
    "\n",
    "    encoder_sequence_length = max(len(example[\"encoder_input_ids\"]) for example in examples)\n",
    "    decoder_sequence_length = max(len(example[\"decoder_input_ids\"]) for example in examples)\n",
    "    batch_size = len(examples)\n",
    "\n",
    "    encoder_input_ids = torch.full((batch_size, encoder_sequence_length),\n",
    "                                   fill_value=source_tokenizer.pad_token_id,\n",
    "                                   dtype=torch.int64)\n",
    "    encoder_padding_mask = torch.ones((batch_size, encoder_sequence_length),\n",
    "                                      dtype=torch.bool)\n",
    "\n",
    "    decoder_input_ids = torch.full((batch_size, decoder_sequence_length),\n",
    "                                   fill_value=target_tokenizer.pad_token_id,\n",
    "                                   dtype=torch.int64)\n",
    "    decoder_padding_mask = torch.ones((batch_size, decoder_sequence_length),\n",
    "                                      dtype=torch.bool)\n",
    "\n",
    "    for i, example in enumerate(examples):\n",
    "        encoder_input_ids[i, :len(example[\"encoder_input_ids\"])] = torch.tensor(example[\"encoder_input_ids\"])\n",
    "        encoder_padding_mask[i, :len(example[\"encoder_input_ids\"])] = False\n",
    "\n",
    "        decoder_input_ids[i, :len(example[\"decoder_input_ids\"])] = torch.tensor(example[\"decoder_input_ids\"])\n",
    "        decoder_padding_mask[i, :len(example[\"decoder_input_ids\"])] = False\n",
    "\n",
    "    return {\"encoder_input_ids\": encoder_input_ids,\n",
    "            \"encoder_padding_mask\": encoder_padding_mask,\n",
    "            \"decoder_input_ids\": decoder_input_ids,\n",
    "            \"decoder_padding_mask\": decoder_padding_mask}"
   ]
  },
  {
   "cell_type": "markdown",
   "metadata": {
    "id": "Mgp3PZL21iIN"
   },
   "source": [
    "Next, we provide a simple training loop."
   ]
  },
  {
   "cell_type": "code",
   "execution_count": null,
   "metadata": {
    "id": "FeZgvg2VkRQd"
   },
   "outputs": [],
   "source": [
    "import time\n",
    "import math\n",
    "\n",
    "def compute_loss_per_token(model, batch):\n",
    "    logits = model(**batch)\n",
    "\n",
    "    valid_label_mask = ~(batch[\"decoder_padding_mask\"][:,1:])\n",
    "    labels = batch[\"decoder_input_ids\"][:,1:][valid_label_mask]\n",
    "    logits = logits[:,:-1][valid_label_mask]\n",
    "\n",
    "    return F.cross_entropy(logits, labels, reduction='none')\n",
    "\n",
    "\n",
    "def evaluate_perplexity(model, dataset, batch_size=32, device=\"cpu\"):\n",
    "    model.eval()\n",
    "\n",
    "    dev_loader = torch.utils.data.DataLoader(\n",
    "        dataset, batch_size=batch_size, shuffle=False, collate_fn=collate_fn)\n",
    "\n",
    "    num_tokens = loss_sum = 0\n",
    "\n",
    "    # no_grad() signals backend to throw away all gradients\n",
    "    with torch.no_grad():\n",
    "        for batch in dev_loader:\n",
    "            # Move tensors in batch to device\n",
    "            for key in batch:\n",
    "                batch[key] = batch[key].to(device)\n",
    "\n",
    "            token_losses = compute_loss_per_token(model, batch)\n",
    "\n",
    "            loss_sum += token_losses.sum()\n",
    "            num_tokens += token_losses.numel()\n",
    "\n",
    "        dev_ppl = (loss_sum / num_tokens).exp().cpu().item()\n",
    "    return dev_ppl\n",
    "\n",
    "\n",
    "def train(model, training_dataset, validation_dataset,\n",
    "          batch_size=32, lr=1e-3, max_epoch=10, log_every=10, valid_niter=100,\n",
    "          model_path=\"model.pt\"):\n",
    "    model.train()\n",
    "\n",
    "    device = torch.device(\"cuda\" if torch.cuda.is_available() else \"cpu\")\n",
    "    print('Use device: %s' % device)\n",
    "\n",
    "    model = model.to(device)\n",
    "\n",
    "    optimizer = torch.optim.Adam(model.parameters(), lr=lr)\n",
    "\n",
    "    epoch = global_step = loss_sum = num_tokens = num_examples = 0\n",
    "    best_valid_perplexity = float('inf')\n",
    "    train_time = begin_time = time.time()\n",
    "    print('Beginning maximum likelihood training')\n",
    "\n",
    "\n",
    "    while True:\n",
    "        train_loader = torch.utils.data.DataLoader(\n",
    "            training_dataset, batch_size=batch_size, shuffle=True, collate_fn=collate_fn)\n",
    "        epoch += 1\n",
    "        batches_per_epoch = len(train_loader)\n",
    "        for i, batch in enumerate(train_loader):\n",
    "            global_step += 1\n",
    "\n",
    "            # Move tensors in batch to device\n",
    "            for key in batch:\n",
    "                batch[key] = batch[key].to(device)\n",
    "\n",
    "            optimizer.zero_grad()\n",
    "\n",
    "            token_losses = compute_loss_per_token(model, batch)\n",
    "            total_loss = token_losses.sum()\n",
    "\n",
    "            loss = total_loss / batch_size\n",
    "            loss.backward()\n",
    "\n",
    "            optimizer.step()\n",
    "\n",
    "            loss_sum += total_loss.cpu().item()\n",
    "            num_tokens += token_losses.numel()\n",
    "            num_examples += batch_size\n",
    "\n",
    "            if global_step % log_every == 0:\n",
    "                average_loss = loss_sum / num_examples\n",
    "                average_ppl = math.exp(loss_sum / num_tokens)\n",
    "                print(f\"epoch {epoch} ({i}/{batches_per_epoch}) | step {global_step} | \"\n",
    "                      f\"avg_nll={average_loss:.2f} avg_ppl={average_ppl:.2f} \"\n",
    "                      f\"speed={num_tokens / (time.time() - train_time):.2f} words/sec \"\n",
    "                      f\"time_elapsed={time.time() - begin_time:.2f} sec\")\n",
    "\n",
    "                train_time = time.time()\n",
    "                loss_sum = num_tokens = num_examples = 0.0\n",
    "\n",
    "            if global_step % valid_niter == 0:\n",
    "                print('Begin validation ...')\n",
    "                dev_perplexity = evaluate_perplexity(model, validation_dataset, batch_size=batch_size, device=device)\n",
    "\n",
    "                print(f\"validation: step {global_step} | dev_ppl={dev_perplexity}\")\n",
    "\n",
    "                if dev_perplexity < best_valid_perplexity:\n",
    "                    best_valid_perplexity = dev_perplexity\n",
    "                    print(f\"epoch {epoch} step {global_step}: save currently the best model to '{model_path}'\")\n",
    "                    torch.save(model.state_dict(), model_path)\n",
    "                    torch.save(optimizer.state_dict(), model_path + '.optim')\n",
    "                model.train()\n",
    "\n",
    "        if epoch == max_epoch:\n",
    "            print('Reached maximum number of epochs')\n",
    "            break"
   ]
  },
  {
   "cell_type": "markdown",
   "metadata": {
    "id": "A8NLae1r1iIO"
   },
   "source": [
    "Let's train a relatively small model architecture for 15 epochs.\n",
    "With a reasonable implementation, this should take about 16 minutes on CPU / 3 minutes on GPU and we should achieve a validation perplexity of below 10!"
   ]
  },
  {
   "cell_type": "code",
   "execution_count": null,
   "metadata": {
    "id": "7j8KNRx21iIO"
   },
   "outputs": [],
   "source": [
    "# Set a random seed, so you obtain the same output model if you run this cell again.\n",
    "seed = 42\n",
    "torch.manual_seed(seed)\n",
    "torch.cuda.manual_seed(seed)\n",
    "\n",
    "model = EncoderDecoderModel(\n",
    "    source_vocab_size=source_tokenizer.vocab_size,\n",
    "    target_vocab_size=target_tokenizer.vocab_size,\n",
    "    hidden_size=32,\n",
    "    intermediate_size=32 * 4,\n",
    "    num_attention_heads=4,\n",
    "    num_encoder_layers=3,\n",
    "    num_decoder_layers=3,\n",
    "    max_sequence_length=32,\n",
    "    hidden_dropout_prob=0.1,\n",
    "    )\n",
    "\n",
    "print(\"Model architecture:\", model)\n",
    "print(\"Total number of trainable model parameters:\", sum(p.numel() for p in model.parameters() if p.requires_grad))\n",
    "\n",
    "train(model, tokenized_datasets[\"train\"], tokenized_datasets[\"validation\"],\n",
    "      max_epoch=15, model_path=\"model.pt\")"
   ]
  },
  {
   "cell_type": "markdown",
   "metadata": {
    "id": "Xhk9wiHzpyuF"
   },
   "source": [
    "## Evaluate the model\n",
    "\n",
    "We have trained a seq2seq model for the NMT task. Now let's evaluate the model on the test set by generating translations with beam search and comparing them to the gold translations using the BLEU score."
   ]
  },
  {
   "cell_type": "code",
   "execution_count": null,
   "metadata": {
    "id": "uqEeZlyeuzG2"
   },
   "outputs": [],
   "source": [
    "from tqdm import tqdm\n",
    "from nltk.translate.bleu_score import corpus_bleu\n",
    "\n",
    "def beam_search(model: EncoderDecoderModel,\n",
    "                encoder_input_ids: torch.LongTensor,\n",
    "                beam_width: int = 5,\n",
    "                max_len: int = 32) -> Tuple[torch.LongTensor, float]:\n",
    "    \"\"\"Run beam search on the encoder-decoder model for a single source sequence.\n",
    "\n",
    "    Args:\n",
    "        model: The encoder-decoder model.\n",
    "        encoder_input_ids: The input sequence. Tensor of shape [encoder_sequence_length].\n",
    "        beam_width: Number of generations to expand at each time step.\n",
    "        max_len: Stop generation when reaching this length for the generated sequence.\n",
    "\n",
    "    Returns:\n",
    "        A tuple (generation, score) where generation is the generated target sequence and\n",
    "            a tensor of shape [target_sequence_length] and score is the corresponding\n",
    "            log-probability of this generation.\n",
    "    \"\"\"\n",
    "    model.eval()\n",
    "\n",
    "    encoder_input_ids = encoder_input_ids.unsqueeze(0) # Add the batch dimension\n",
    "    encoder_padding_mask = torch.zeros_like(encoder_input_ids, dtype=torch.bool) # No padding\n",
    "    encoder_outputs = model.forward_encoder(encoder_input_ids, encoder_padding_mask)\n",
    "\n",
    "    generations = [torch.tensor([target_tokenizer.bos_token_id], device=encoder_input_ids.device)]\n",
    "    scores = [0.0]\n",
    "\n",
    "    best_generation = None\n",
    "    best_score = float('-inf')\n",
    "\n",
    "    for _ in range(max_len):\n",
    "        new_generations = []\n",
    "        new_scores = []\n",
    "        for score, generation in zip(scores, generations):\n",
    "            generation = generation.unsqueeze(0) # Add the batch dimension\n",
    "            padding_mask = torch.zeros_like(generation, dtype=torch.bool) # No padding\n",
    "            decoder_output = model.forward_decoder(generation, padding_mask, encoder_outputs, encoder_padding_mask)\n",
    "            last_log_probs = decoder_output[0, -1, :].log_softmax(dim=-1)\n",
    "            top_log_probs, top_indices = last_log_probs.topk(beam_width, dim=-1)\n",
    "\n",
    "            new_generations.append(torch.cat([generation.expand(beam_width, -1), top_indices[:,None]], dim=1))\n",
    "            new_scores.append(score + top_log_probs)\n",
    "\n",
    "        new_generations = torch.cat(new_generations, dim=0)\n",
    "        new_scores = torch.cat(new_scores, dim=0)\n",
    "\n",
    "        ends_with_eos = target_tokenizer.eos_token_id == new_generations[:,-1]\n",
    "\n",
    "        if ends_with_eos.any():\n",
    "            new_completed_generations = new_generations[ends_with_eos]\n",
    "            new_completed_scores = new_scores[ends_with_eos]\n",
    "\n",
    "            if new_completed_scores.max() > best_score:\n",
    "                best_score = new_completed_scores.max()\n",
    "                best_generation = new_completed_generations[new_completed_scores.argmax()]\n",
    "\n",
    "        if best_score >= new_scores.max():\n",
    "            break\n",
    "\n",
    "        scores, indices = torch.topk(new_scores, beam_width, dim=-1)\n",
    "        generations = new_generations[indices]\n",
    "\n",
    "    if best_generation is None:\n",
    "        best_generation = generations[0]\n",
    "        best_score = scores[0]\n",
    "\n",
    "    return best_generation, best_score.cpu().item()\n",
    "\n",
    "\n",
    "def run_generation(model, test_dataset, beam_size=5, max_decoding_time_step=32):\n",
    "    \"\"\"Run beam search decoding on the test set, compute BLEU and return reference and candidate target sentences.\n",
    "    \"\"\"\n",
    "\n",
    "    device = torch.device(\"cuda:0\" if torch.cuda.is_available() else \"cpu\")\n",
    "    print('Use device: %s' % device)\n",
    "\n",
    "    input_sentences = []\n",
    "    reference_sentences = []\n",
    "    candidate_sentences = []\n",
    "\n",
    "    with torch.no_grad():\n",
    "        for example in tqdm(test_dataset):\n",
    "            encoder_input_ids = torch.tensor(example[\"encoder_input_ids\"], device=device)\n",
    "\n",
    "            generation, _ = beam_search(model, encoder_input_ids, beam_size, max_decoding_time_step)\n",
    "\n",
    "            # Decode given source sequence and generated target sequence and avoid special tokens\n",
    "\n",
    "            input_text = \"\".join(source_tokenizer.decode(token).replace(\"▁\", \" \") for token in example[\"encoder_input_ids\"][1:-1])\n",
    "            reference_text = \"\".join(target_tokenizer.decode(token).replace(\"▁\", \" \") for token in example[\"decoder_input_ids\"][1:-1])\n",
    "            candidate_text = \"\".join(target_tokenizer.decode(token).replace(\"▁\", \" \") for token in generation[1:-1].cpu())\n",
    "\n",
    "            reference_sentences.append(reference_text)\n",
    "            candidate_sentences.append(candidate_text)\n",
    "            input_sentences.append(input_text)\n",
    "\n",
    "\n",
    "    bleu_score = corpus_bleu([[ref] for ref in reference_sentences],\n",
    "                             [candidate for candidate in candidate_sentences])\n",
    "\n",
    "    return bleu_score, input_sentences, reference_sentences, candidate_sentences"
   ]
  },
  {
   "cell_type": "code",
   "execution_count": null,
   "metadata": {
    "id": "uRjz11ntwgkK"
   },
   "outputs": [],
   "source": [
    "# Restore the best validation checkpoint\n",
    "model.load_state_dict(torch.load(\"model.pt\"))\n",
    "\n",
    "bleu_score, inputs, references, candidates = run_generation(model, tokenized_datasets[\"test\"])\n",
    "print('\\n\\nCorpus BLEU: {}'.format(bleu_score * 100))"
   ]
  },
  {
   "cell_type": "markdown",
   "metadata": {
    "id": "FOLmb9eh6kua"
   },
   "source": [
    "Let's look at some examples. What do you think of the quality of the translations?"
   ]
  },
  {
   "cell_type": "code",
   "execution_count": null,
   "metadata": {
    "id": "I5e1cDYe6t0B"
   },
   "outputs": [],
   "source": [
    "# Feel free to change the range to look at more samples!\n",
    "for k in range(10, 20):\n",
    "  print(f\"===== Sample {k} =====\")\n",
    "  print(f\"Input: {inputs[k]}\")\n",
    "  print(f\"Gold: {references[k]}\")\n",
    "  print(f\"Pred: {candidates[k]}\")"
   ]
  },
  {
   "cell_type": "markdown",
   "metadata": {
    "id": "v648UANH1iIO"
   },
   "source": [
    "# Questions\n",
    "\n",
    "Please answer written questions from the assignment in this section. You can alter the provided code to obtain the answers, but be careful not to break anything!\n",
    "\n",
    "**(b) (4 points)**\n",
    "\n",
    "- (i)\n",
    "    What vocabulary size are we using for the source and target language?\n",
    "\n",
    "- (ii)\n",
    "    Approximately how many source and target tokens are on average contained in a training batch? What proportion of these tokens are `<pad>` tokens on average?\n",
    "\n",
    "- (iii)\n",
    "What is the specific purpose of saving the model parameters in a file `model.pt` throughout training in the code we provide?\n",
    "\n",
    "**(c) (2 points)**\n",
    "Manually look at some results and compare them with the gold answers. What do you think of the quality of the translations? Are these grammatical English sentences? Can you identify any common mistakes?\n",
    "\n",
    "**(d) (4 points)**\n",
    "Consider the provided beam search method. This implementation is not efficient and performs a lot of repeated computation. Identify the issue and propose how you can fix it.\n",
    "In particular, describe how would you have to change the arguments and return values of your EncoderDecoderModel and its sub-modules?"
   ]
  },
  {
   "cell_type": "code",
   "execution_count": null,
   "metadata": {
    "id": "2LvPHiteAvaN"
   },
   "outputs": [],
   "source": []
  },
  {
   "cell_type": "markdown",
   "metadata": {},
   "source": [
    "**(e) Comparison with Pretrained LLMs (10 points)**\n",
    "\n",
    "1.\tObjective: cCompare the performance of your trained Transformer-based NMT model with that of a pretrained large language model (LLM) available through Hugging Face.\n",
    "\n",
    "2.\tProcedure:\n",
    "- Select a Pretrained Model:\n",
    "    Choose a pretrained LLM from Hugging Face (e.g., MarianMT, T5, or any translationcapable model). Briefly describe your choice\n",
    "\n",
    "- Experimental Setup:\n",
    "    Run the selected LLM on the test set. Ensure that the experimental setup (e.g., input formatting, temperature settings, etc.) is documented.\n",
    "\n",
    "-  Quantitative Evaluation:\n",
    "    Compute the BLEU score for the pretrained model’s translations.\n",
    "\n",
    "- Qualitative Analysis:\n",
    "    Manually inspect several translation examples from both your model and the pretrained LLM. Compare aspects such as fluency, grammatical correctness, and adequacy of translation.\n",
    "    \n",
    "- Discussion:\n",
    "    Discuss the differences in performance, computational resource requirements, and any potential trade-offs between your custom-built model and the pretrained Hugging Face model.\n",
    "\n",
    "**Deliverable**\n",
    "\n",
    "- Include your code, evaluation results, and a brief discussion in the notebook or a separate pdf file."
   ]
  },
  {
   "cell_type": "markdown",
   "metadata": {},
   "source": []
  },
  {
   "cell_type": "code",
   "execution_count": null,
   "metadata": {},
   "outputs": [],
   "source": [
    "# The implementation for the pretrained LLM goes here"
   ]
  }
 ],
 "metadata": {
  "colab": {
   "provenance": []
  },
  "kernelspec": {
   "display_name": ".venv",
   "language": "python",
   "name": "python3"
  },
  "language_info": {
   "codemirror_mode": {
    "name": "ipython",
    "version": 3
   },
   "file_extension": ".py",
   "mimetype": "text/x-python",
   "name": "python",
   "nbconvert_exporter": "python",
   "pygments_lexer": "ipython3",
   "version": "3.9.0"
  }
 },
 "nbformat": 4,
 "nbformat_minor": 0
}
