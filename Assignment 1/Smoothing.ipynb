{
 "cells": [
  {
   "cell_type": "markdown",
   "metadata": {
    "id": "TX7_-K31Zp7y"
   },
   "source": [
    "# Notebook for Programming Question 1\n",
    "Welcome to the programming portion of the assignment! you will be using [Google Colab](https://colab.research.google.com/notebooks/intro.ipynb#recent=true), so if you have never used it before, take a quick look through this introduction: [Working with Google Colab](https://docs.google.com/document/d/1LlnXoOblXwW3YX-0yG_5seTXJsb3kRdMMRYqs8Qqum4/edit?usp=sharing).\n",
    "\n",
    "you be also be programming in Python, which we will assume a basic familiarity with. Python has fantastic community support and we'll be using numerous packages for machine learning (ML) and natural language processing (NLP) tasks.\n",
    "\n",
    "### Learning Objectives\n",
    "In this problem we will experiment with language models and implement smoothing. We will also see effects of using unigram/bigram LMs and the size of the training data.\n",
    "\n",
    "### Writing Code\n",
    "Look for the keyword \"TODO\" and fill in your code in the empty space.\n",
    "Feel free to add and delete arguments in function signatures, but be careful that you might need to change them in function calls which are already present in the notebook."
   ]
  },
  {
   "cell_type": "markdown",
   "metadata": {
    "id": "gPv_JEf8ZvIb"
   },
   "source": [
    "### Data preprocessing\n",
    "\n",
    "In this section we will write code to load data and clean (tokenize) it."
   ]
  },
  {
   "cell_type": "code",
   "execution_count": 50,
   "metadata": {
    "colab": {
     "base_uri": "https://localhost:8080/"
    },
    "id": "T2apYXiYZxog",
    "outputId": "823fcc6e-5447-4a7f-f0b9-77be03e2b111"
   },
   "outputs": [
    {
     "name": "stderr",
     "output_type": "stream",
     "text": [
      "[nltk_data] Downloading package punkt_tab to\n",
      "[nltk_data]     C:\\Users\\Rob\\AppData\\Roaming\\nltk_data...\n",
      "[nltk_data]   Package punkt_tab is already up-to-date!\n"
     ]
    },
    {
     "data": {
      "text/plain": [
       "True"
      ]
     },
     "execution_count": 50,
     "metadata": {},
     "output_type": "execute_result"
    }
   ],
   "source": [
    "# Import libraries for preprocessing\n",
    "import os\n",
    "import numpy as np\n",
    "import nltk\n",
    "nltk.download('punkt_tab')"
   ]
  },
  {
   "cell_type": "code",
   "execution_count": 51,
   "metadata": {
    "id": "naV4YPZvZ3JO"
   },
   "outputs": [],
   "source": [
    "# Tokenizer class\n",
    "# Fill all function blocks marked as TODO\n",
    "\n",
    "class Tokenizer:\n",
    "  def __init__(self, tokenize_type='basic', lowercase=False):\n",
    "    self.lowercase = lowercase  # If this is True, convert text to lowercase while tokenizing.\n",
    "    self.type = tokenize_type\n",
    "    self.vocab = []\n",
    "\n",
    "\n",
    "  \"\"\"This simple tokenizer splits the text using whitespace.\"\"\"\n",
    "  def basicTokenize(self, string):\n",
    "    words = string.split()\n",
    "    return words\n",
    "\n",
    "  ### TODO : Fill in this function to use NLTK's word_tokenize() function. ###\n",
    "  def nltkTokenize(self, string):\n",
    "    ##### SOLUTION START #####\n",
    "    if self.lowercase:\n",
    "      string = string.lower()\n",
    "    return nltk.word_tokenize(string)\n",
    "    ##### SOLUTION END #####\n",
    "    \n",
    "  def tokenize(self, string):\n",
    "    if self.lowercase:\n",
    "      string = string.lower()\n",
    "    if self.type == 'basic':\n",
    "      tokens = self.basicTokenize(string)\n",
    "    elif self.type == 'nltk':\n",
    "      tokens = self.nltkTokenize(string)\n",
    "    else:\n",
    "      raise ValueError('Unknown tokenization type.')\n",
    "\n",
    "\n",
    "    # Populate vocabulary\n",
    "    self.vocab += [w for w in set(tokens) if w not in self.vocab]\n",
    "\n",
    "    return tokens\n",
    "\n",
    "  ### TODO: Fill in this function to return the top k words (and their frequency) in the corpus according to frequency. ###\n",
    "  def countTopWords(self, words, k):\n",
    "    ##### SOLUTION START #####\n",
    "    fdist = nltk.FreqDist(word.lower() for word in words)\n",
    "    return fdist.most_common(k)\n",
    "    ##### SOLUTION END #####"
   ]
  },
  {
   "cell_type": "code",
   "execution_count": 52,
   "metadata": {
    "id": "4qxQp2VJaZhq"
   },
   "outputs": [],
   "source": [
    "# Function for reading the corpus\n",
    "def readCorpus(filename, tokenizer):\n",
    "  with open(filename) as f:\n",
    "    words = tokenizer.tokenize(f.read())\n",
    "  return words"
   ]
  },
  {
   "cell_type": "markdown",
   "metadata": {
    "id": "tXYBlcTyagBQ"
   },
   "source": [
    "### Language Modeling and Smoothing\n",
    "In this section we will first compute the bigram counts and estimate bigram probabilities. We will then implement add-alpha smoothing to modify the probabilities."
   ]
  },
  {
   "cell_type": "code",
   "execution_count": 53,
   "metadata": {
    "id": "K47R17s-ao6k"
   },
   "outputs": [],
   "source": [
    "# Import libraries\n",
    "# Feel free to import as many as you like\n",
    "import sys\n",
    "import os\n",
    "import numpy as np\n",
    "import argparse\n",
    "from tqdm import tqdm\n",
    "from collections import Counter"
   ]
  },
  {
   "cell_type": "code",
   "execution_count": 54,
   "metadata": {
    "id": "BK7uqvcEa49P"
   },
   "outputs": [],
   "source": [
    "# Class definition for language modeling\n",
    "# Fill all function blocks marked as TODO\n",
    "\n",
    "class LanguageModel:\n",
    "  def __init__(self, vocab, n=2, smoothing=None, smoothing_param=None):\n",
    "    assert n >=2, \"This code does not allow you to train unigram models.\"\n",
    "    self.vocab = vocab\n",
    "    self.token_to_idx = {word: i for i, word in enumerate(self.vocab)}\n",
    "    self.n = n\n",
    "    self.smoothing = smoothing\n",
    "    self.smoothing_param = smoothing_param\n",
    "    self.bi_counts = None      # Holds the bigram counts\n",
    "    self.bi_prob = None        # Holds the computed bigram probabilities.\n",
    "\n",
    "    assert smoothing is None or smoothing_param is not None, \"Forgot to specify a smoothing parameter?\"\n",
    "\n",
    "\n",
    "  \"\"\"Compute basic bigram probabilities (without any smoothing)\"\"\"\n",
    "  def computeBigramProb(self):\n",
    "    self.bi_prob = self.bi_counts.copy()\n",
    "\n",
    "    for i, _ in enumerate(tqdm(self.bi_prob, desc=\"Estimating bigram probabilities\")):\n",
    "      cnt = np.sum(self.bi_prob[i])\n",
    "      if cnt > 0:\n",
    "        self.bi_prob[i] /= cnt\n",
    "\n",
    "  ### TODO: complete ###\n",
    "  def computeBigramProbAddAlpha(self, alpha=0.001):\n",
    "    ##### SOLUTION START #####\n",
    "    self.bi_prob = self.bi_counts.copy()\n",
    "    vocab_size = self.bi_counts.shape[1]\n",
    "\n",
    "    for i, _ in enumerate(tqdm(self.bi_prob, desc=\"Estimating bigram probabilities with additive alpha\")):\n",
    "      cnt = np.sum(self.bi_prob[i])\n",
    "      self.bi_prob[i] = (self.bi_prob[i] + alpha) / (cnt + alpha * vocab_size)\n",
    "    ##### SOLUTION END #####\n",
    "    return\n",
    "\n",
    "\n",
    "  \"\"\"Train a basic n-gram language model\"\"\"\n",
    "  def train(self, corpus):\n",
    "    if self.n==2:\n",
    "      self.bi_counts = np.zeros((len(self.vocab), len(self.vocab)), dtype=float)\n",
    "    else:\n",
    "      raise ValueError(\"Only bigram model has been implemented so far.\")\n",
    "\n",
    "    # Convert to token indices.\n",
    "    corpus = [self.token_to_idx[w] for w in corpus]\n",
    "\n",
    "    # Gather counts\n",
    "    for i, idx in enumerate(tqdm(corpus[:1-self.n], desc=\"Counting\")):\n",
    "      self.bi_counts[idx][corpus[i+1]] += 1\n",
    "\n",
    "    # Pre-compute the probabilities.\n",
    "    if not self.smoothing:\n",
    "      self.computeBigramProb()\n",
    "    elif self.smoothing == 'addAlpha':\n",
    "      self.computeBigramProbAddAlpha(self.smoothing_param)\n",
    "    else:\n",
    "      raise ValueError(\"Unknown smoothing type.\")\n",
    "\n",
    "\n",
    "\n",
    "  def test(self, corpus):\n",
    "    logprob = 0.\n",
    "\n",
    "    # Convert to token indices.\n",
    "    corpus = [self.token_to_idx[w] for w in corpus]\n",
    "\n",
    "    for i, idx in enumerate(tqdm(corpus[:1-self.n], desc=\"Evaluating\")):\n",
    "      logprob += np.log(self.bi_prob[idx, corpus[i+1]])\n",
    "\n",
    "    # import pdb; pdb.set_trace()\n",
    "\n",
    "    logprob /= len(corpus[:1-self.n])\n",
    "\n",
    "    # Compute perplexity\n",
    "    ppl = np.exp(-logprob)\n",
    "\n",
    "    return ppl"
   ]
  },
  {
   "cell_type": "markdown",
   "metadata": {
    "id": "fkIAhWqYeUgL"
   },
   "source": [
    "### Instantiate a tokenizer and LM, and calculate perplexity\n",
    "This section contains driver code for learning a language model and evaluating it on a train and dev corpus."
   ]
  },
  {
   "cell_type": "code",
   "execution_count": 55,
   "metadata": {
    "id": "nILv3Tyleb54"
   },
   "outputs": [],
   "source": [
    "def runLanguageModel(train_corpus,\n",
    "                     val_corpus,\n",
    "                     train_fraction,\n",
    "                     tokenizer,\n",
    "                     smoothing_type=None,\n",
    "                     smoothing_param='0.0'):\n",
    "\n",
    "  # Print the top 10 words in the corpus.\n",
    "  # IMPORTANT: complete the function within the tokenizer class in data.py first.\n",
    "  print(\"Top 10 words: %s\" %(tokenizer.countTopWords(train_corpus, k=10)))\n",
    "\n",
    "  # Instantiate the language model.\n",
    "  lm = LanguageModel(tokenizer.vocab, n=2, smoothing=smoothing_type, smoothing_param=smoothing_param)\n",
    "\n",
    "  # Figure out index for a specific percentage of train corpus to use.\n",
    "  train_idx = int(train_fraction * len(train_corpus))\n",
    "\n",
    "  lm.train(train_corpus[:train_idx])\n",
    "\n",
    "  train_ppl = lm.test(train_corpus[:train_idx])\n",
    "  val_ppl = lm.test(val_corpus)\n",
    "\n",
    "  print(\"Train perplexity: %f, Val Perplexity: %f\" %(train_ppl, val_ppl))\n",
    "\n",
    "  return [train_ppl, val_ppl]"
   ]
  },
  {
   "cell_type": "markdown",
   "metadata": {
    "id": "M8hSR_9VczRI"
   },
   "source": [
    "### Load the data"
   ]
  },
  {
   "cell_type": "code",
   "execution_count": 56,
   "metadata": {
    "id": "syUH84NUc1rL"
   },
   "outputs": [],
   "source": [
    "# Load training data here\n",
    "# First download the datasets\n",
    "\n",
    "#!wget https://github.com/Tsegaye-misikir/NLP-rug/blob/main/brown/brown-train.txt\n",
    "#!wget https://github.com/Tsegaye-misikir/NLP-rug/blob/main/brown/brown-test.txt\n",
    "\n",
    "# Instantiate a basic tokenizer\n",
    "basic_tokenizer = Tokenizer(tokenize_type='basic', lowercase=True)\n",
    "nltk_tokenizer = Tokenizer(tokenize_type='nltk', lowercase=True)\n",
    "\n",
    "\n",
    "# Read the corpus and store\n",
    "train_corpus = readCorpus('brown-train.txt', basic_tokenizer)\n",
    "val_corpus = readCorpus('brown-test.txt', basic_tokenizer)\n",
    "train_corpus_nltk = readCorpus('brown-train.txt', nltk_tokenizer)\n",
    "val_corpus_nltk = readCorpus('brown-test.txt', nltk_tokenizer)"
   ]
  },
  {
   "cell_type": "markdown",
   "metadata": {
    "id": "GtrPOKd1vvyx"
   },
   "source": [
    "### Experiments\n",
    "Code for part a. Compare top 10 most common words between tokenizers "
   ]
  },
  {
   "cell_type": "code",
   "execution_count": 66,
   "metadata": {},
   "outputs": [
    {
     "name": "stdout",
     "output_type": "stream",
     "text": [
      "Most common words nltk: [('the', 24657), (',', 22913), ('.', 22440), ('and', 10629), ('of', 10150), ('to', 9789), ('``', 9682), ('a', 8989), ('in', 6844), ('he', 6170)]\n",
      "Most common words basic: [('the', 24657), (',', 22913), ('.', 22238), ('and', 10629), ('of', 10150), ('to', 9789), ('a', 8982), ('in', 6844), ('he', 5957), ('was', 5149)]\n"
     ]
    }
   ],
   "source": [
    "print(f\"Most common words nltk: {nltk_tokenizer.countTopWords(train_corpus_nltk, 10)}\")\n",
    "print(f\"Most common words basic: {basic_tokenizer.countTopWords(train_corpus, 10)}\")"
   ]
  },
  {
   "cell_type": "markdown",
   "metadata": {
    "id": "anwiyViHMCTt"
   },
   "source": [
    "#### Plot the frequency of words\n",
    "Code for sub-part (a)(b)"
   ]
  },
  {
   "cell_type": "code",
   "execution_count": 57,
   "metadata": {
    "id": "A1xEdVHxMl0n"
   },
   "outputs": [
    {
     "data": {
      "image/png": "[encoded data removed]",
      "text/plain": [
       "<Figure size 1500x700 with 1 Axes>"
      ]
     },
     "metadata": {},
     "output_type": "display_data"
    }
   ],
   "source": [
    "# TODO: Code for plotting the frequency of words\n",
    "##### SOLUTION START #####\n",
    "import matplotlib.pyplot as plt\n",
    "\n",
    "most_common = nltk_tokenizer.countTopWords(train_corpus_nltk, 100)\n",
    "words, frequencies = zip(*most_common)\n",
    "\n",
    "\n",
    "# Plot the frequencies\n",
    "plt.figure(figsize=(15, 7))\n",
    "plt.plot(frequencies)\n",
    "plt.xlabel('Rank')\n",
    "plt.ylabel('Frequency')\n",
    "plt.title('Word Frequency vs. Rank')\n",
    "plt.xticks(range(100), words, rotation='vertical')\n",
    "plt.show()\n",
    "##### SOLUTION END #####"
   ]
  },
  {
   "cell_type": "markdown",
   "metadata": {
    "id": "DAWeJQ8VdBHU"
   },
   "source": [
    "#### Report the train and test perplexity after learning the language model\n",
    "Code for sub-part (c)"
   ]
  },
  {
   "cell_type": "code",
   "execution_count": 60,
   "metadata": {
    "id": "xH79REFCcNRH"
   },
   "outputs": [
    {
     "name": "stdout",
     "output_type": "stream",
     "text": [
      "Top 10 words: [('the', 24657), (',', 22913), ('.', 22238), ('and', 10629), ('of', 10150), ('to', 9789), ('a', 8982), ('in', 6844), ('he', 5957), ('was', 5149)]\n"
     ]
    },
    {
     "name": "stderr",
     "output_type": "stream",
     "text": [
      "Counting: 100%|██████████| 446473/446473 [00:01<00:00, 407371.56it/s]\n",
      "Estimating bigram probabilities: 100%|██████████| 29151/29151 [00:08<00:00, 3480.19it/s]\n",
      "Evaluating: 100%|██████████| 446473/446473 [00:02<00:00, 178654.18it/s]\n",
      "Evaluating:   0%|          | 0/16869 [00:00<?, ?it/s]C:\\Users\\Rob\\AppData\\Local\\Temp\\ipykernel_11300\\146427675.py:71: RuntimeWarning: divide by zero encountered in log\n",
      "  logprob += np.log(self.bi_prob[idx, corpus[i+1]])\n",
      "Evaluating: 100%|██████████| 16869/16869 [00:00<00:00, 210453.77it/s]\n"
     ]
    },
    {
     "name": "stdout",
     "output_type": "stream",
     "text": [
      "Train perplexity: 59.399107, Val Perplexity: inf\n"
     ]
    },
    {
     "data": {
      "text/plain": [
       "[np.float64(59.399107116841556), np.float64(inf)]"
      ]
     },
     "execution_count": 60,
     "metadata": {},
     "output_type": "execute_result"
    }
   ],
   "source": [
    "# Train and test perplexity\n",
    "runLanguageModel(train_corpus, val_corpus, train_fraction=1.0, tokenizer=basic_tokenizer)"
   ]
  },
  {
   "cell_type": "markdown",
   "metadata": {},
   "source": [
    "#### Add-alpha smoothing"
   ]
  },
  {
   "cell_type": "code",
   "execution_count": 67,
   "metadata": {},
   "outputs": [
    {
     "name": "stdout",
     "output_type": "stream",
     "text": [
      "Top 10 words: [('the', 24657), (',', 22913), ('.', 22238), ('and', 10629), ('of', 10150), ('to', 9789), ('a', 8982), ('in', 6844), ('he', 5957), ('was', 5149)]\n"
     ]
    },
    {
     "name": "stderr",
     "output_type": "stream",
     "text": [
      "Counting: 100%|██████████| 446473/446473 [00:01<00:00, 330495.87it/s]\n",
      "Estimating bigram probabilities with additive alpha: 100%|██████████| 29151/29151 [00:12<00:00, 2360.37it/s]\n",
      "Evaluating: 100%|██████████| 446473/446473 [00:03<00:00, 123755.12it/s]\n",
      "Evaluating: 100%|██████████| 16869/16869 [00:00<00:00, 152216.79it/s]\n"
     ]
    },
    {
     "name": "stdout",
     "output_type": "stream",
     "text": [
      "Train perplexity: 198.199459, Val Perplexity: 1378.856938\n"
     ]
    },
    {
     "data": {
      "text/plain": [
       "[np.float64(198.19945856393042), np.float64(1378.856937606149)]"
      ]
     },
     "execution_count": 67,
     "metadata": {},
     "output_type": "execute_result"
    }
   ],
   "source": [
    "# Example command\n",
    "runLanguageModel(train_corpus, val_corpus, train_fraction=1.0, tokenizer=basic_tokenizer, smoothing_type='addAlpha', smoothing_param=0.01)"
   ]
  },
  {
   "cell_type": "markdown",
   "metadata": {
    "id": "-4ntdVf2j24K"
   },
   "source": [
    "\n",
    "Code for sub-part (d)"
   ]
  },
  {
   "cell_type": "code",
   "execution_count": null,
   "metadata": {
    "id": "hmMeDg-lkQkC"
   },
   "outputs": [
    {
     "name": "stdout",
     "output_type": "stream",
     "text": [
      "Top 10 words: [('the', 24657), (',', 22913), ('.', 22238), ('and', 10629), ('of', 10150), ('to', 9789), ('a', 8982), ('in', 6844), ('he', 5957), ('was', 5149)]\n"
     ]
    },
    {
     "name": "stderr",
     "output_type": "stream",
     "text": [
      "Counting: 100%|██████████| 446473/446473 [00:01<00:00, 346911.43it/s]\n",
      "Estimating bigram probabilities with additive alpha: 100%|██████████| 29151/29151 [00:11<00:00, 2517.15it/s]\n",
      "Evaluating: 100%|██████████| 446473/446473 [00:04<00:00, 103694.09it/s]\n",
      "Evaluating: 100%|██████████| 16869/16869 [00:00<00:00, 138925.36it/s]\n"
     ]
    },
    {
     "name": "stdout",
     "output_type": "stream",
     "text": [
      "Train perplexity: 198.199459, Val Perplexity: 1378.856938\n",
      "Top 10 words: [('the', 24657), (',', 22913), ('.', 22238), ('and', 10629), ('of', 10150), ('to', 9789), ('a', 8982), ('in', 6844), ('he', 5957), ('was', 5149)]\n"
     ]
    },
    {
     "name": "stderr",
     "output_type": "stream",
     "text": [
      "Counting: 100%|██████████| 446473/446473 [00:01<00:00, 386514.99it/s]\n",
      "Estimating bigram probabilities with additive alpha: 100%|██████████| 29151/29151 [00:12<00:00, 2251.56it/s]\n",
      "Evaluating: 100%|██████████| 446473/446473 [00:05<00:00, 80773.50it/s] \n",
      "Evaluating: 100%|██████████| 16869/16869 [00:00<00:00, 53089.39it/s]\n"
     ]
    },
    {
     "name": "stdout",
     "output_type": "stream",
     "text": [
      "Train perplexity: 60.419416, Val Perplexity: 4791.749813\n",
      "Top 10 words: [('the', 24657), (',', 22913), ('.', 22238), ('and', 10629), ('of', 10150), ('to', 9789), ('a', 8982), ('in', 6844), ('he', 5957), ('was', 5149)]\n"
     ]
    },
    {
     "name": "stderr",
     "output_type": "stream",
     "text": [
      "Counting: 100%|██████████| 446473/446473 [00:01<00:00, 399437.88it/s]\n",
      "Estimating bigram probabilities with additive alpha: 100%|██████████| 29151/29151 [00:12<00:00, 2246.18it/s]\n",
      "Evaluating: 100%|██████████| 446473/446473 [00:05<00:00, 86118.55it/s] \n",
      "Evaluating: 100%|██████████| 16869/16869 [00:00<00:00, 143491.05it/s]\n"
     ]
    },
    {
     "name": "stdout",
     "output_type": "stream",
     "text": [
      "Train perplexity: 66.686065, Val Perplexity: 2489.659202\n",
      "Top 10 words: [('the', 24657), (',', 22913), ('.', 22238), ('and', 10629), ('of', 10150), ('to', 9789), ('a', 8982), ('in', 6844), ('he', 5957), ('was', 5149)]\n"
     ]
    },
    {
     "name": "stderr",
     "output_type": "stream",
     "text": [
      "Counting: 100%|██████████| 446473/446473 [00:01<00:00, 395808.13it/s]\n",
      "Estimating bigram probabilities with additive alpha: 100%|██████████| 29151/29151 [00:10<00:00, 2801.31it/s]\n",
      "Evaluating: 100%|██████████| 446473/446473 [00:03<00:00, 123405.13it/s]\n",
      "Evaluating: 100%|██████████| 16869/16869 [00:00<00:00, 177792.81it/s]\n"
     ]
    },
    {
     "name": "stdout",
     "output_type": "stream",
     "text": [
      "Train perplexity: 94.166602, Val Perplexity: 1570.592557\n",
      "Top 10 words: [('the', 24657), (',', 22913), ('.', 22238), ('and', 10629), ('of', 10150), ('to', 9789), ('a', 8982), ('in', 6844), ('he', 5957), ('was', 5149)]\n"
     ]
    },
    {
     "name": "stderr",
     "output_type": "stream",
     "text": [
      "Counting: 100%|██████████| 446473/446473 [00:01<00:00, 412697.98it/s]\n",
      "Estimating bigram probabilities with additive alpha: 100%|██████████| 29151/29151 [00:09<00:00, 2934.82it/s]\n",
      "Evaluating: 100%|██████████| 446473/446473 [00:03<00:00, 129914.55it/s]\n",
      "Evaluating: 100%|██████████| 16869/16869 [00:00<00:00, 182472.04it/s]\n"
     ]
    },
    {
     "name": "stdout",
     "output_type": "stream",
     "text": [
      "Train perplexity: 198.199459, Val Perplexity: 1378.856938\n",
      "Top 10 words: [('the', 24657), (',', 22913), ('.', 22238), ('and', 10629), ('of', 10150), ('to', 9789), ('a', 8982), ('in', 6844), ('he', 5957), ('was', 5149)]\n"
     ]
    },
    {
     "name": "stderr",
     "output_type": "stream",
     "text": [
      "Counting: 100%|██████████| 446473/446473 [00:01<00:00, 388673.46it/s]\n",
      "Estimating bigram probabilities with additive alpha: 100%|██████████| 29151/29151 [00:11<00:00, 2649.59it/s]\n",
      "Evaluating: 100%|██████████| 446473/446473 [00:03<00:00, 128663.75it/s]\n",
      "Evaluating: 100%|██████████| 16869/16869 [00:00<00:00, 169928.68it/s]\n"
     ]
    },
    {
     "name": "stdout",
     "output_type": "stream",
     "text": [
      "Train perplexity: 656.815243, Val Perplexity: 1897.221599\n",
      "Top 10 words: [('the', 24657), (',', 22913), ('.', 22238), ('and', 10629), ('of', 10150), ('to', 9789), ('a', 8982), ('in', 6844), ('he', 5957), ('was', 5149)]\n"
     ]
    },
    {
     "name": "stderr",
     "output_type": "stream",
     "text": [
      "Counting: 100%|██████████| 446473/446473 [00:01<00:00, 406098.82it/s]\n",
      "Estimating bigram probabilities with additive alpha: 100%|██████████| 29151/29151 [00:09<00:00, 3069.43it/s]\n",
      "Evaluating: 100%|██████████| 446473/446473 [00:03<00:00, 122769.78it/s]\n",
      "Evaluating: 100%|██████████| 16869/16869 [00:00<00:00, 173741.31it/s]\n"
     ]
    },
    {
     "name": "stdout",
     "output_type": "stream",
     "text": [
      "Train perplexity: 2964.240469, Val Perplexity: 4221.510495\n",
      "Top 10 words: [('the', 24657), (',', 22913), ('.', 22238), ('and', 10629), ('of', 10150), ('to', 9789), ('a', 8982), ('in', 6844), ('he', 5957), ('was', 5149)]\n"
     ]
    },
    {
     "name": "stderr",
     "output_type": "stream",
     "text": [
      "Counting: 100%|██████████| 446473/446473 [00:01<00:00, 402490.17it/s]\n",
      "Estimating bigram probabilities with additive alpha: 100%|██████████| 29151/29151 [00:10<00:00, 2779.03it/s]\n",
      "Evaluating: 100%|██████████| 446473/446473 [00:03<00:00, 140809.90it/s]\n",
      "Evaluating: 100%|██████████| 16869/16869 [00:00<00:00, 171828.24it/s]\n"
     ]
    },
    {
     "name": "stdout",
     "output_type": "stream",
     "text": [
      "Train perplexity: 10113.615387, Val Perplexity: 10616.468299\n"
     ]
    },
    {
     "data": {
      "image/png": "[encoded data removed]",
      "text/plain": [
       "<Figure size 640x480 with 1 Axes>"
      ]
     },
     "metadata": {},
     "output_type": "display_data"
    }
   ],
   "source": [
    "# TODO: Part (d)\n",
    "##### SOLUTION START #####\n",
    "alphas = [1e-5, 1e-4, 1e-3, 1e-2, 1e-1, 1, 10]\n",
    "train_perplexities = []\n",
    "val_perplexities = []\n",
    "\n",
    "for alpha in alphas:\n",
    "    train_ppl, val_ppl = runLanguageModel(train_corpus, val_corpus, train_fraction=1.0, tokenizer=basic_tokenizer, smoothing_type='addAlpha', smoothing_param=alpha)\n",
    "    train_perplexities.append(train_ppl)\n",
    "    val_perplexities.append(val_ppl)\n",
    "\n",
    "plt.plot(alphas, train_perplexities, label='Train Perplexity')\n",
    "plt.plot(alphas, val_perplexities, label='Validation Perplexity')\n",
    "plt.xscale('log')\n",
    "plt.xlabel('Alpha')\n",
    "plt.ylabel('Perplexity')\n",
    "plt.legend()\n",
    "plt.title('Perplexity vs Alpha')\n",
    "plt.show()\n",
    "\n",
    "##### SOLUTION END #####"
   ]
  }
 ],
 "metadata": {
  "colab": {
   "provenance": []
  },
  "kernelspec": {
   "display_name": ".venv",
   "language": "python",
   "name": "python3"
  },
  "language_info": {
   "codemirror_mode": {
    "name": "ipython",
    "version": 3
   },
   "file_extension": ".py",
   "mimetype": "text/x-python",
   "name": "python",
   "nbconvert_exporter": "python",
   "pygments_lexer": "ipython3",
   "version": "3.10.6"
  }
 },
 "nbformat": 4,
 "nbformat_minor": 0
}
